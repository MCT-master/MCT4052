{
 "cells": [
  {
   "cell_type": "markdown",
   "metadata": {},
   "source": [
    "# MCT4052 Workshop 7b: Posture Mapping to Real Valued Parameters\n",
    "\n",
    "*Author: Stefano Fasciani, stefano.fasciani@imv.uio.no, Department of Musicology, University of Oslo.*\n",
    "\n",
    "This notebook uses the same data (and postures) presented in Workshop 5a, but here we train a regressor instead of a classifier. In particular we selected a MLP regressor that output two real-valued quantities with the range [0,1] which we can later use to control any music-related continuous value parameter (for example we can further forward them via OSC). With an MLP regressor we can chose to hany any number of output real-valued parameters (if too many with few input features, these may result highly correlated and poorly independently controllable).\n",
    "\n",
    "The code in this notebook is similar to Workshop 5a, but instead of creating a labels we create a bidimensional array of arbitrary target values for the controld signals (associated with the postures). These are meant to be learned by the regressor. Note that the data not associated with the four postures is discarded as is not needed (there is no 'other' in this context). The regressor will 'decide' how to interpolate across postures (and associated output values) then at the input there is data that does not belong to any of the four postures.\n",
    "\n",
    "In terms of sysem output there s a major difference as the regressor is capable to interpolate the output values across the postures, and therefore we achieve continuous control of parameters through gestures.\n",
    "\n",
    "Also this example requires [oscHook](https://m.apkpure.com/oschook/com.hollyhook.oscHook) on Android, and for back compatibility reasons, in the oscHook v2 application we have set 'Data range' and 'Output range' to [-10;10] for both accelerometer and linear acceleration. If you are using oscHook v1 you have to rename 'accelerometer' to 'gravity' in the OSC prefix of the third cell of this notebook."
   ]
  },
  {
   "cell_type": "code",
   "execution_count": 3,
   "metadata": {},
   "outputs": [],
   "source": [
    "import os\n",
    "import numpy as np\n",
    "import pandas as pd\n",
    "import sklearn\n",
    "from sklearn import *\n",
    "import matplotlib.pyplot as plt\n",
    "%matplotlib inline\n",
    "import matplotlib.style as ms\n",
    "ms.use('seaborn-muted')\n",
    "from IPython.display import clear_output, display"
   ]
  },
  {
   "cell_type": "markdown",
   "metadata": {},
   "source": [
    "### 1. Importing the data, creating target values and training the regressor"
   ]
  },
  {
   "cell_type": "code",
   "execution_count": 4,
   "metadata": {},
   "outputs": [
    {
     "name": "stdout",
     "output_type": "stream",
     "text": [
      "r2 score on individual targets [0.98823641 0.98502608]\n"
     ]
    }
   ],
   "source": [
    "#### read dataset\n",
    "dataset = pd.read_csv('./data/examples10/postures.csv')\n",
    "\n",
    "#importing the columns with accelerometer (gravity) data on the three exis\n",
    "rawdata = dataset[['grx', 'gry', 'grz']].to_numpy()\n",
    "inputs = np.empty((0,3))\n",
    "target = np.empty((inputs.shape[0],2))\n",
    "\n",
    "#iterating through the entries of the dataset and creating associated target values\n",
    "#the index edges for the postures have been found manually by visually inspecting the waveforms\n",
    "for i in range(0,rawdata.shape[0]):\n",
    "    if (860 <= i <= 1000) or (1315 <= i <= 1450):\n",
    "        inputs = np.append(inputs, rawdata[i,:].reshape(1,-1), axis=0)\n",
    "        target = np.append(target, np.array([[1.,1.]]), axis=0) #arm up\n",
    "    elif (1750 <= i <= 1865) or (2130 <= i <= 2250):\n",
    "        inputs = np.append(inputs, rawdata[i,:].reshape(1,-1), axis=0)\n",
    "        target = np.append(target, np.array([[1.,0.]]), axis=0) #arm side face up\n",
    "    elif (2530 <= i <= 2650) or (2930 <= i <= 3055):\n",
    "        inputs = np.append(inputs, rawdata[i,:].reshape(1,-1), axis=0)\n",
    "        target = np.append(target, np.array([[0.,1.]]), axis=0) #arm side face down\n",
    "    elif (3490 <= i <= 3640) or (4150 <= i <= 4320):\n",
    "        inputs = np.append(inputs, rawdata[i,:].reshape(1,-1), axis=0)\n",
    "        target = np.append(target, np.array([[0.,0.]]), axis=0) #arm down\n",
    "\n",
    "#creating train/test split\n",
    "inputs_train, inputs_test, target_train, target_test = sklearn.model_selection.train_test_split(inputs, target, test_size=0.1)\n",
    "\n",
    "#training the model\n",
    "mlp = sklearn.neural_network.MLPRegressor(hidden_layer_sizes=(8,4), max_iter=20000, activation='logistic')\n",
    "mlp.fit(inputs_train, target_train)\n",
    "target_predict =  mlp.predict(inputs_test)\n",
    "\n",
    "\n",
    "#print the number of misclassified samples, accuracy and complete report (using scikit learn metric tools) \n",
    "print('r2 score on individual targets',sklearn.metrics.r2_score(target_test, target_predict, multioutput='raw_values'))"
   ]
  },
  {
   "cell_type": "markdown",
   "metadata": {},
   "source": [
    "### 2. Using the regressor with OSC real-time data\n",
    "\n",
    "Here we use the regressor we previously trained. For a standalone application it would be more suitable to load the mlp model from a file (i.e. perform the training once for all and store it in a file).\n",
    "\n",
    "The following cell will run until you press the stop button. However, before you can run it again you need to close the OSC server running the following cell."
   ]
  },
  {
   "cell_type": "code",
   "execution_count": null,
   "metadata": {},
   "outputs": [],
   "source": [
    "from pythonosc import dispatcher\n",
    "from pythonosc import osc_server\n",
    "\n",
    "acc_vect = np.zeros((1,3))\n",
    "\n",
    "#creating a function that will handle and push accelerometer through the regressor\n",
    "def acceleration_vector(address, args):\n",
    "    if address.find('accelerometer/x') != -1:\n",
    "        acc_vect[0,0] = args\n",
    "    elif address.find('accelerometer/y') != -1:\n",
    "        acc_vect[0,1] = args\n",
    "    elif address.find('accelerometer/z') != -1:\n",
    "        acc_vect[0,2] = args\n",
    "        clear_output(wait=True)\n",
    "        pred = mlp.predict(acc_vect)\n",
    "        print('Parameters   %.3f'%pred.flat[0], '  %.3f' %pred.flat[1])\n",
    "\n",
    "#attaching the function to the dispatcher\n",
    "dispatcher = dispatcher.Dispatcher()\n",
    "dispatcher.map(\"/accelerometer/*\", acceleration_vector)\n",
    "\n",
    "#starting the OSC server\n",
    "server = osc_server.ThreadingOSCUDPServer(('0.0.0.0', 8001), dispatcher)\n",
    "print(\"Serving on {}\".format(server.server_address))\n",
    "server.serve_forever()"
   ]
  },
  {
   "cell_type": "code",
   "execution_count": null,
   "metadata": {},
   "outputs": [],
   "source": [
    "#closing the OSC server\n",
    "server.server_close()"
   ]
  },
  {
   "cell_type": "code",
   "execution_count": null,
   "metadata": {},
   "outputs": [],
   "source": []
  }
 ],
 "metadata": {
  "kernelspec": {
   "display_name": "Python 3 (ipykernel)",
   "language": "python",
   "name": "python3"
  },
  "language_info": {
   "codemirror_mode": {
    "name": "ipython",
    "version": 3
   },
   "file_extension": ".py",
   "mimetype": "text/x-python",
   "name": "python",
   "nbconvert_exporter": "python",
   "pygments_lexer": "ipython3",
   "version": "3.9.9"
  }
 },
 "nbformat": 4,
 "nbformat_minor": 4
}
