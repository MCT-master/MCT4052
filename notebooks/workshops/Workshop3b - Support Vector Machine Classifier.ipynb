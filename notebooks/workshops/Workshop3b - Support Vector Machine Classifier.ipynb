{
 "cells": [
  {
   "cell_type": "markdown",
   "metadata": {},
   "source": [
    "# MCT4052 Workshop 3b: Support Vector Machine Classifier\n",
    "\n",
    "*Author: Stefano Fasciani, stefano.fasciani@imv.uio.no, Department of Musicology, University of Oslo.*\n",
    "\n",
    "This notebook shows how to train and use a Support Vector Machine (SVM) classifier. The dataset, features extraction and regression problem are identical to example in Workshop2b, but we replace the Gaussian naïve Bayesian calssifier with a more powerful and flexible [Support Vector Machine (SVM)](https://scikit-learn.org/stable/modules/svm.html) classifier. \n",
    "\n",
    "SVM allows to tune several parameters to improve the performances of the classifier. For more details, refer to the [documentation](https://scikit-learn.org/stable/modules/generated/sklearn.svm.SVC.html).\n"
   ]
  },
  {
   "cell_type": "code",
   "execution_count": 1,
   "metadata": {},
   "outputs": [],
   "source": [
    "import numpy as np\n",
    "import pandas as pd\n",
    "import librosa, librosa.display\n",
    "import matplotlib.pyplot as plt\n",
    "import matplotlib.style as ms\n",
    "ms.use('seaborn-muted')\n",
    "import IPython.display as Ipd\n",
    "import os\n",
    "import sklearn\n",
    "\n",
    "%matplotlib inline\n",
    "%config IPCompleter.greedy=True"
   ]
  },
  {
   "cell_type": "code",
   "execution_count": 2,
   "metadata": {},
   "outputs": [
    {
     "name": "stdout",
     "output_type": "stream",
     "text": [
      "Done!\n"
     ]
    }
   ],
   "source": [
    "sr = 22050\n",
    "\n",
    "#Instead of writing the code to extract the features we define a function,\n",
    "#which is more elegant, it's reusable (shorter code) and makes the following code more readable.\n",
    "#All features are from librosa and are all scalar (we take the mean over multiple blocks computed across the duration, which differs for each file).\n",
    "#The function returns a list containing the mean of the features given an filename, and the sampling rate at which we are resampling the file\n",
    "#Mind that these features may not be the best to perform the classification task (it's just an example!)\n",
    "def extract_features(filename, sr):\n",
    "    \n",
    "    signal, dummy = librosa.load(filename, sr, mono=True)\n",
    "    \n",
    "    output = [\n",
    "        np.mean(librosa.feature.zero_crossing_rate(signal)),\n",
    "        np.mean(librosa.feature.spectral_centroid(signal)),\n",
    "        np.mean(librosa.feature.spectral_flatness(signal))\n",
    "    ]\n",
    "    \n",
    "    return output\n",
    "\n",
    "\n",
    "#creating an array of zeros of the proper size where we will store computed features and lables\n",
    "filenames = os.listdir('./data/examples2')\n",
    "features = np.zeros((len(filenames),3)) #we compute the average of 3 features in the above code\n",
    "labels = np.zeros((len(filenames))) #we store the labels as integers\n",
    "classes = ['kick','snare','cymbal','clap'] #list of text labels to conver numberical labels to text labels\n",
    "\n",
    "for i in range(len(filenames)):\n",
    "    #print('processing',filenames[i])\n",
    "    features[i,:] = extract_features('./data/examples2/'+filenames[i], sr)\n",
    "    if filenames[i].find('kick') != -1:\n",
    "        labels[i] = 0\n",
    "    elif filenames[i].find('snare') != -1:\n",
    "        labels[i] = 1\n",
    "    elif filenames[i].find('cymbal') != -1:\n",
    "        labels[i] = 2\n",
    "    elif filenames[i].find('clap') != -1:\n",
    "        labels[i] = 3\n",
    "\n",
    "print('Done!')"
   ]
  },
  {
   "cell_type": "code",
   "execution_count": 3,
   "metadata": {},
   "outputs": [],
   "source": [
    "#this step converts the labels from a numpy array to \n",
    "#a Pandas series, which allows backtracing misclassified examples\n",
    "#scikitlearn can handle features or labels also as Pandas formats\n",
    "labels = pd.Series(labels)"
   ]
  },
  {
   "cell_type": "code",
   "execution_count": 4,
   "metadata": {},
   "outputs": [
    {
     "data": {
      "image/png": "[encoded data removed]",
      "text/plain": [
       "<Figure size 360x360 with 1 Axes>"
      ]
     },
     "metadata": {},
     "output_type": "display_data"
    }
   ],
   "source": [
    "#Plotting the features in a 2D scatter plot\n",
    "#we can plot up to 2 features (or you can attempt a 3D plot) \n",
    "#we also include an histrogram (different view of the same data)\n",
    "\n",
    "#create a dictionary of features so that we can toggle between indexes and labels for each individual feature\n",
    "feature_dict = {'zcr':0,\n",
    "                'cent':1,\n",
    "                'flat':2}\n",
    "\n",
    "select1 = 'flat'\n",
    "select2 = 'zcr'\n",
    "\n",
    "with plt.style.context('seaborn-whitegrid'):\n",
    "    plt.figure(figsize=(5, 5))\n",
    "    for lab_val, lab_name in zip(range(0,50),classes):\n",
    "        plt.scatter(features[labels==lab_val, feature_dict[select1]],\n",
    "                    features[labels==lab_val, feature_dict[select2]],\n",
    "                    label=lab_name)\n",
    "    plt.xlabel(select1)\n",
    "    plt.ylabel(select2)\n",
    "    plt.legend(loc='center right')\n",
    "    plt.tight_layout()\n",
    "    plt.show()"
   ]
  },
  {
   "cell_type": "code",
   "execution_count": 5,
   "metadata": {},
   "outputs": [],
   "source": [
    "from sklearn.model_selection import train_test_split\n",
    "\n",
    "#splitting the dataset in training and testing parts\n",
    "feat_train, feat_test, lab_train, lab_test = train_test_split(features, labels, test_size=0.3, random_state=14)"
   ]
  },
  {
   "cell_type": "code",
   "execution_count": 6,
   "metadata": {},
   "outputs": [],
   "source": [
    "#learning the scaling transformation from the train data and applying it to both train and test set.\n",
    "\n",
    "#creating scaling object\n",
    "scaler = sklearn.preprocessing.StandardScaler()\n",
    "\n",
    "#learning scaling from train set\n",
    "scaler.fit(feat_train)\n",
    "\n",
    "#applying scaling to both train and test set\n",
    "feat_train = scaler.transform(feat_train)\n",
    "feat_test = scaler.transform(feat_test)"
   ]
  },
  {
   "cell_type": "markdown",
   "metadata": {},
   "source": [
    "### Creating, training and testing the SVM Classifier, computing classification performance metrics\n",
    "\n",
    "The kernel and the regularization parameters (C) are important settings in SVM. These can be changed/tuned to improve perforances significantly."
   ]
  },
  {
   "cell_type": "code",
   "execution_count": 7,
   "metadata": {},
   "outputs": [
    {
     "name": "stdout",
     "output_type": "stream",
     "text": [
      "Number of mislabeled samples 10 out of 51\n",
      "Accuracy: 0.803921568627451\n"
     ]
    }
   ],
   "source": [
    "#Creating an instance of a SVM classifier\n",
    "#and setting it to use a linear kernel\n",
    "model_SVM = sklearn.svm.SVC(kernel='linear', C=1.0)\n",
    "\n",
    "#training the model\n",
    "model_SVM.fit(feat_train, lab_train)\n",
    "\n",
    "#applying the the model on the test data (features)\n",
    "lab_predict =  model_SVM.predict(feat_test)\n",
    "\n",
    "\n",
    "#print the number of misclassified samples, accuracy and complete report (using scikit learn metric tools) \n",
    "print('Number of mislabeled samples %d out of %d' % ((lab_test != lab_predict).sum(),lab_test.size))\n",
    "print('Accuracy:',sklearn.metrics.accuracy_score(lab_test, lab_predict))"
   ]
  },
  {
   "cell_type": "code",
   "execution_count": 8,
   "metadata": {},
   "outputs": [
    {
     "name": "stdout",
     "output_type": "stream",
     "text": [
      "              precision    recall  f1-score   support\n",
      "\n",
      "         0.0       0.94      1.00      0.97        17\n",
      "         1.0       0.80      0.86      0.83        14\n",
      "         2.0       0.62      0.91      0.74        11\n",
      "         3.0       1.00      0.22      0.36         9\n",
      "\n",
      "    accuracy                           0.80        51\n",
      "   macro avg       0.84      0.75      0.73        51\n",
      "weighted avg       0.85      0.80      0.77        51\n",
      "\n",
      "[[17  0  0  0]\n",
      " [ 0 12  2  0]\n",
      " [ 0  1 10  0]\n",
      " [ 1  2  4  2]]\n"
     ]
    }
   ],
   "source": [
    "#computing a comprehensive set of performance metrics\n",
    "print(sklearn.metrics.classification_report(lab_test, lab_predict))\n",
    "\n",
    "print(sklearn.metrics.confusion_matrix(lab_test, lab_predict))"
   ]
  },
  {
   "cell_type": "code",
   "execution_count": 9,
   "metadata": {},
   "outputs": [
    {
     "name": "stdout",
     "output_type": "stream",
     "text": [
      "snare_10.wav\n",
      "clap39.wav\n",
      "clap17.wav\n",
      "clap04.wav\n",
      "clap30.wav\n",
      "clap14.wav\n",
      "cymbal27.wav\n",
      "clap32.wav\n",
      "clap33.wav\n",
      "snare_25.wav\n"
     ]
    }
   ],
   "source": [
    "#displaying names of misclassified files\n",
    "results = lab_test == lab_predict\n",
    "for index, value in results.items():\n",
    "    if value == False:\n",
    "        print(filenames[index])\n"
   ]
  },
  {
   "cell_type": "markdown",
   "metadata": {},
   "source": [
    "### Follou-up activity\n",
    "\n",
    "1. Try to change the SVM regularization parameter (C) within reasonable values) and the kernel function (it can combine features nonlinearly to simplifiy the separation of overlapping classes) and the associated parameters such as gamma and degree. For more details, refer to the [documentation](https://scikit-learn.org/stable/modules/generated/sklearn.svm.SVC.html).\n",
    "2. Try with your own dataset and compare the performances with other classifiers included in Workshop 3."
   ]
  },
  {
   "cell_type": "code",
   "execution_count": null,
   "metadata": {},
   "outputs": [],
   "source": []
  }
 ],
 "metadata": {
  "kernelspec": {
   "display_name": "Python 3 (ipykernel)",
   "language": "python",
   "name": "python3"
  },
  "language_info": {
   "codemirror_mode": {
    "name": "ipython",
    "version": 3
   },
   "file_extension": ".py",
   "mimetype": "text/x-python",
   "name": "python",
   "nbconvert_exporter": "python",
   "pygments_lexer": "ipython3",
   "version": "3.9.9"
  }
 },
 "nbformat": 4,
 "nbformat_minor": 4
}
