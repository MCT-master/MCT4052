{
 "cells": [
  {
   "cell_type": "markdown",
   "metadata": {},
   "source": [
    "# MCT4052 Workshop 8b: Tensorflow-Keras ANN Regressor\n",
    "\n",
    "*Author: Stefano Fasciani, stefano.fasciani@imv.uio.no, Department of Musicology, University of Oslo.*\n",
    "\n",
    "This notebook shows how to train, test and use an ANN for regression in tensorflow. We use the same dataset used in earlier Workshops."
   ]
  },
  {
   "cell_type": "markdown",
   "metadata": {},
   "source": [
    "### 1. Importing Tensorflow and Keras\n"
   ]
  },
  {
   "cell_type": "code",
   "execution_count": 1,
   "metadata": {},
   "outputs": [
    {
     "name": "stderr",
     "output_type": "stream",
     "text": [
      "2024-02-29 20:18:26.972295: I tensorflow/core/platform/cpu_feature_guard.cc:182] This TensorFlow binary is optimized to use available CPU instructions in performance-critical operations.\n",
      "To enable the following instructions: AVX2 FMA, in other operations, rebuild TensorFlow with the appropriate compiler flags.\n"
     ]
    },
    {
     "name": "stdout",
     "output_type": "stream",
     "text": [
      "2.15.0\n"
     ]
    }
   ],
   "source": [
    "import numpy as np\n",
    "import pandas as pd\n",
    "import librosa, librosa.display\n",
    "import matplotlib.pyplot as plt\n",
    "import matplotlib.style as ms\n",
    "#ms.use(\"seaborn-v0_8\")\n",
    "import IPython.display as Ipd\n",
    "import os\n",
    "import sklearn\n",
    "import scipy\n",
    "import datetime\n",
    "\n",
    "%matplotlib inline\n",
    "%config IPCompleter.greedy=True\n",
    "\n",
    "# Import TensorFlow and Keras\n",
    "import tensorflow as tf\n",
    "\n",
    "# display tensorflow version (this notwbook was developed with 2.7)\n",
    "print(tf.__version__)"
   ]
  },
  {
   "cell_type": "markdown",
   "metadata": {},
   "source": [
    "### 2. Computing features, targets and splitting the dataset\n",
    "\n",
    "This time we store the features in an numpy array of matrices (i.e. a 3D array) ad tensorflow is able to \"flatten\" the data internally (is instructed to do so)."
   ]
  },
  {
   "cell_type": "code",
   "execution_count": 2,
   "metadata": {},
   "outputs": [
    {
     "name": "stdout",
     "output_type": "stream",
     "text": [
      "Done!\n"
     ]
    }
   ],
   "source": [
    "sr = 44100\n",
    "\n",
    "def lin_interp_2d(data, out_size):\n",
    "    \n",
    "    x_in_size = data.shape[1]\n",
    "    y_in_size = data.shape[0]\n",
    "    x_in = np.arange(0,x_in_size)\n",
    "    y_in = np.arange(0,y_in_size)\n",
    "    interpolator = scipy.interpolate.RegularGridInterpolator((x_in, y_in), data.T, method='linear', bounds_error=False)\n",
    "    x_out = np.arange(0,x_in_size-1,((x_in_size-1)/out_size[1]))\n",
    "    y_out = np.arange(0,y_in_size-1,((y_in_size-1)/out_size[0]))\n",
    "    x_out, y_out = np.meshgrid(x_out, y_out, indexing='ij', sparse=True)\n",
    "    output = interpolator((x_out, y_out)).T\n",
    "    output = output[0:out_size[0],0:out_size[1]]\n",
    "\n",
    "    return output\n",
    "\n",
    "def extract_features_targets(filename, sr):\n",
    "    \n",
    "    signal, dummy = librosa.load(filename, sr=sr, mono=True)\n",
    "    features = librosa.feature.melspectrogram(y=signal, n_mels=32)\n",
    "    features = lin_interp_2d(features, (32,16)) # scaling to identical lenght\n",
    "    \n",
    "    targets = np.zeros((1,2))\n",
    "    #centroid and flatness are in very different ranges, they are scaled to be in a similar range (important for the loss)\n",
    "    targets[0,0] = np.mean(librosa.feature.spectral_centroid(y=signal))\n",
    "    targets[0,1] = np.mean(librosa.feature.spectral_flatness(y=signal))\n",
    "    \n",
    "    return features, targets\n",
    "\n",
    "filenames = os.listdir('./data/examples2')\n",
    "features = np.zeros((len(filenames),32,16)) #3D Numpy array to store MFCC computed e changed if using more or less features)\n",
    "targets = np.zeros((len(filenames),2))\n",
    "\n",
    "for i in range(len(filenames)):\n",
    "    features[i,:,:], targets[i,:] = extract_features_targets('./data/examples2/'+filenames[i], sr) # alternative features[i,:,:]\n",
    "\n",
    "#scaling targets as their range (centroid and flatness) is significantly different\n",
    "from sklearn.preprocessing import StandardScaler\n",
    "tar_scaler = StandardScaler()\n",
    "targets = tar_scaler.fit_transform(targets)\n",
    "\n",
    "print('Done!')"
   ]
  },
  {
   "cell_type": "code",
   "execution_count": 3,
   "metadata": {},
   "outputs": [],
   "source": [
    "# for the splitting we still use scikit learn\n",
    "\n",
    "from sklearn.model_selection import train_test_split\n",
    "\n",
    "#splitting the dataset in training and testing parts\n",
    "feat_train, feat_test, tar_train, tar_test = train_test_split(features, targets, test_size=0.2)"
   ]
  },
  {
   "cell_type": "markdown",
   "metadata": {},
   "source": [
    "### 3. Defining, compiling, training and using the ANN\n",
    "\n",
    "Compared to the previous notebook, setting an appropriate loss function (related to the error) is a key element to train a regression model"
   ]
  },
  {
   "cell_type": "code",
   "execution_count": 4,
   "metadata": {},
   "outputs": [
    {
     "name": "stdout",
     "output_type": "stream",
     "text": [
      "Model: \"sequential\"\n",
      "_________________________________________________________________\n",
      " Layer (type)                Output Shape              Param #   \n",
      "=================================================================\n",
      " flatten (Flatten)           (None, 512)               0         \n",
      "                                                                 \n",
      " normalization (Normalizati  (None, 512)               1025      \n",
      " on)                                                             \n",
      "                                                                 \n",
      " dense (Dense)               (None, 10)                5130      \n",
      "                                                                 \n",
      " dense_1 (Dense)             (None, 2)                 22        \n",
      "                                                                 \n",
      "=================================================================\n",
      "Total params: 6177 (24.13 KB)\n",
      "Trainable params: 5152 (20.12 KB)\n",
      "Non-trainable params: 1025 (4.01 KB)\n",
      "_________________________________________________________________\n"
     ]
    }
   ],
   "source": [
    "# building the model, the input layer must match the input data\n",
    "# for regression we need an output for each target value\n",
    "# here we also integrate a normalization layer (not an absolute must)\n",
    "\n",
    "model = tf.keras.Sequential([\n",
    "    tf.keras.layers.Flatten(input_shape=(32, 16)),\n",
    "    tf.keras.layers.Normalization(),\n",
    "    tf.keras.layers.Dense(10, activation='tanh'),\n",
    "    tf.keras.layers.Dense(2, activation='relu')\n",
    "])\n",
    "\n",
    "model.summary()\n"
   ]
  },
  {
   "cell_type": "code",
   "execution_count": 5,
   "metadata": {},
   "outputs": [],
   "source": [
    "# setting loss function and metric\n",
    "# we also specify the learning rate, which needs to be further\n",
    "# adjusted to speed up the training\n",
    "\n",
    "model.compile(\n",
    "    optimizer=tf.keras.optimizers.Adam(learning_rate=0.01),\n",
    "    loss='mean_absolute_error')"
   ]
  },
  {
   "cell_type": "code",
   "execution_count": 6,
   "metadata": {},
   "outputs": [
    {
     "name": "stdout",
     "output_type": "stream",
     "text": [
      "Epoch 1/100\n",
      "4/4 [==============================] - 1s 51ms/step - loss: 1.0061 - val_loss: 1.0343\n",
      "Epoch 2/100\n",
      "4/4 [==============================] - 0s 13ms/step - loss: 0.7846 - val_loss: 0.8795\n",
      "Epoch 3/100\n",
      "4/4 [==============================] - 0s 10ms/step - loss: 0.7316 - val_loss: 0.8700\n",
      "Epoch 4/100\n",
      "4/4 [==============================] - 0s 8ms/step - loss: 0.7218 - val_loss: 0.8753\n",
      "Epoch 5/100\n",
      "4/4 [==============================] - 0s 9ms/step - loss: 0.7075 - val_loss: 0.8516\n",
      "Epoch 6/100\n",
      "4/4 [==============================] - 0s 8ms/step - loss: 0.6970 - val_loss: 0.8335\n",
      "Epoch 7/100\n",
      "4/4 [==============================] - 0s 8ms/step - loss: 0.6826 - val_loss: 0.8184\n",
      "Epoch 8/100\n",
      "4/4 [==============================] - 0s 9ms/step - loss: 0.6832 - val_loss: 0.8170\n",
      "Epoch 9/100\n",
      "4/4 [==============================] - 0s 9ms/step - loss: 0.6724 - val_loss: 0.8178\n",
      "Epoch 10/100\n",
      "4/4 [==============================] - 0s 9ms/step - loss: 0.6697 - val_loss: 0.8166\n",
      "Epoch 11/100\n",
      "4/4 [==============================] - 0s 8ms/step - loss: 0.6695 - val_loss: 0.7972\n",
      "Epoch 12/100\n",
      "4/4 [==============================] - 0s 8ms/step - loss: 0.6673 - val_loss: 0.8015\n",
      "Epoch 13/100\n",
      "4/4 [==============================] - 0s 8ms/step - loss: 0.6792 - val_loss: 0.8037\n",
      "Epoch 14/100\n",
      "4/4 [==============================] - 0s 8ms/step - loss: 0.6692 - val_loss: 0.8083\n",
      "Epoch 15/100\n",
      "4/4 [==============================] - 0s 8ms/step - loss: 0.6638 - val_loss: 0.7992\n",
      "Epoch 16/100\n",
      "4/4 [==============================] - 0s 9ms/step - loss: 0.6486 - val_loss: 0.7912\n",
      "Epoch 17/100\n",
      "4/4 [==============================] - 0s 9ms/step - loss: 0.6373 - val_loss: 0.7813\n",
      "Epoch 18/100\n",
      "4/4 [==============================] - 0s 8ms/step - loss: 0.6394 - val_loss: 0.7827\n",
      "Epoch 19/100\n",
      "4/4 [==============================] - 0s 8ms/step - loss: 0.6352 - val_loss: 0.7726\n",
      "Epoch 20/100\n",
      "4/4 [==============================] - 0s 8ms/step - loss: 0.6319 - val_loss: 0.7619\n",
      "Epoch 21/100\n",
      "4/4 [==============================] - 0s 8ms/step - loss: 0.6305 - val_loss: 0.7583\n",
      "Epoch 22/100\n",
      "4/4 [==============================] - 0s 8ms/step - loss: 0.6280 - val_loss: 0.7591\n",
      "Epoch 23/100\n",
      "4/4 [==============================] - 0s 8ms/step - loss: 0.6296 - val_loss: 0.7557\n",
      "Epoch 24/100\n",
      "4/4 [==============================] - 0s 10ms/step - loss: 0.6275 - val_loss: 0.7490\n",
      "Epoch 25/100\n",
      "4/4 [==============================] - 0s 9ms/step - loss: 0.6349 - val_loss: 0.8890\n",
      "Epoch 26/100\n",
      "4/4 [==============================] - 0s 18ms/step - loss: 0.6337 - val_loss: 0.7367\n",
      "Epoch 27/100\n",
      "4/4 [==============================] - 0s 8ms/step - loss: 0.6204 - val_loss: 0.7381\n",
      "Epoch 28/100\n",
      "4/4 [==============================] - 0s 9ms/step - loss: 0.6196 - val_loss: 0.7349\n",
      "Epoch 29/100\n",
      "4/4 [==============================] - 0s 8ms/step - loss: 0.6176 - val_loss: 0.7289\n",
      "Epoch 30/100\n",
      "4/4 [==============================] - 0s 8ms/step - loss: 0.6163 - val_loss: 0.7209\n",
      "Epoch 31/100\n",
      "4/4 [==============================] - 0s 8ms/step - loss: 0.6138 - val_loss: 0.7166\n",
      "Epoch 32/100\n",
      "4/4 [==============================] - 0s 8ms/step - loss: 0.6169 - val_loss: 0.7190\n",
      "Epoch 33/100\n",
      "4/4 [==============================] - 0s 9ms/step - loss: 0.6125 - val_loss: 0.7207\n",
      "Epoch 34/100\n",
      "4/4 [==============================] - 0s 10ms/step - loss: 0.6111 - val_loss: 0.7249\n",
      "Epoch 35/100\n",
      "4/4 [==============================] - 0s 10ms/step - loss: 0.6087 - val_loss: 0.7246\n",
      "Epoch 36/100\n",
      "4/4 [==============================] - 0s 9ms/step - loss: 0.6061 - val_loss: 0.7185\n",
      "Epoch 37/100\n",
      "4/4 [==============================] - 0s 8ms/step - loss: 0.6070 - val_loss: 0.7225\n",
      "Epoch 38/100\n",
      "4/4 [==============================] - 0s 8ms/step - loss: 0.6109 - val_loss: 0.7238\n",
      "Epoch 39/100\n",
      "4/4 [==============================] - 0s 9ms/step - loss: 0.6079 - val_loss: 0.7241\n",
      "Epoch 40/100\n",
      "4/4 [==============================] - 0s 9ms/step - loss: 0.6053 - val_loss: 0.7195\n",
      "Epoch 41/100\n",
      "4/4 [==============================] - 0s 9ms/step - loss: 0.5998 - val_loss: 0.7117\n",
      "Epoch 42/100\n",
      "4/4 [==============================] - 0s 8ms/step - loss: 0.6060 - val_loss: 0.7121\n",
      "Epoch 43/100\n",
      "4/4 [==============================] - 0s 11ms/step - loss: 0.6016 - val_loss: 0.7185\n",
      "Epoch 44/100\n",
      "4/4 [==============================] - 0s 10ms/step - loss: 0.6065 - val_loss: 0.7570\n",
      "Epoch 45/100\n",
      "4/4 [==============================] - 0s 10ms/step - loss: 0.6055 - val_loss: 0.7586\n",
      "Epoch 46/100\n",
      "4/4 [==============================] - 0s 9ms/step - loss: 0.6107 - val_loss: 0.7396\n",
      "Epoch 47/100\n",
      "4/4 [==============================] - 0s 10ms/step - loss: 0.6009 - val_loss: 0.7670\n",
      "Epoch 48/100\n",
      "4/4 [==============================] - 0s 9ms/step - loss: 0.5980 - val_loss: 0.7616\n",
      "Epoch 49/100\n",
      "4/4 [==============================] - 0s 9ms/step - loss: 0.6067 - val_loss: 0.7768\n",
      "Epoch 50/100\n",
      "4/4 [==============================] - 0s 9ms/step - loss: 0.6135 - val_loss: 0.7768\n",
      "Epoch 51/100\n",
      "4/4 [==============================] - 0s 9ms/step - loss: 0.6113 - val_loss: 0.7801\n",
      "Epoch 52/100\n",
      "4/4 [==============================] - 0s 10ms/step - loss: 0.6080 - val_loss: 0.7800\n",
      "Epoch 53/100\n",
      "4/4 [==============================] - 0s 9ms/step - loss: 0.6020 - val_loss: 0.7750\n",
      "Epoch 54/100\n",
      "4/4 [==============================] - 0s 9ms/step - loss: 0.6003 - val_loss: 0.7689\n",
      "Epoch 55/100\n",
      "4/4 [==============================] - 0s 8ms/step - loss: 0.5984 - val_loss: 0.7574\n",
      "Epoch 56/100\n",
      "4/4 [==============================] - 0s 8ms/step - loss: 0.5944 - val_loss: 0.7647\n",
      "Epoch 57/100\n",
      "4/4 [==============================] - 0s 9ms/step - loss: 0.5939 - val_loss: 0.7774\n",
      "Epoch 58/100\n",
      "4/4 [==============================] - 0s 8ms/step - loss: 0.5924 - val_loss: 0.7752\n",
      "Epoch 59/100\n",
      "4/4 [==============================] - 0s 8ms/step - loss: 0.5892 - val_loss: 0.7740\n",
      "Epoch 60/100\n",
      "4/4 [==============================] - 0s 8ms/step - loss: 0.5891 - val_loss: 0.7557\n",
      "Epoch 61/100\n",
      "4/4 [==============================] - 0s 8ms/step - loss: 0.5878 - val_loss: 0.7559\n",
      "Epoch 62/100\n",
      "4/4 [==============================] - 0s 8ms/step - loss: 0.5854 - val_loss: 0.7585\n",
      "Epoch 63/100\n",
      "4/4 [==============================] - 0s 8ms/step - loss: 0.5859 - val_loss: 0.7760\n",
      "Epoch 64/100\n",
      "4/4 [==============================] - 0s 9ms/step - loss: 0.5868 - val_loss: 0.7757\n",
      "Epoch 65/100\n",
      "4/4 [==============================] - 0s 8ms/step - loss: 0.5834 - val_loss: 0.7716\n",
      "Epoch 66/100\n",
      "4/4 [==============================] - 0s 9ms/step - loss: 0.5822 - val_loss: 0.7640\n",
      "Epoch 67/100\n",
      "4/4 [==============================] - 0s 9ms/step - loss: 0.5824 - val_loss: 0.7660\n",
      "Epoch 68/100\n",
      "4/4 [==============================] - 0s 18ms/step - loss: 0.5793 - val_loss: 0.7690\n",
      "Epoch 69/100\n",
      "4/4 [==============================] - 0s 9ms/step - loss: 0.5805 - val_loss: 0.7664\n",
      "Epoch 70/100\n",
      "4/4 [==============================] - 0s 9ms/step - loss: 0.5804 - val_loss: 0.7516\n",
      "Epoch 71/100\n",
      "4/4 [==============================] - 0s 9ms/step - loss: 0.5779 - val_loss: 0.7564\n",
      "Epoch 72/100\n",
      "4/4 [==============================] - 0s 10ms/step - loss: 0.5798 - val_loss: 0.7527\n",
      "Epoch 73/100\n",
      "4/4 [==============================] - 0s 9ms/step - loss: 0.5792 - val_loss: 0.7522\n",
      "Epoch 74/100\n",
      "4/4 [==============================] - 0s 9ms/step - loss: 0.5777 - val_loss: 0.7533\n",
      "Epoch 75/100\n",
      "4/4 [==============================] - 0s 8ms/step - loss: 0.5780 - val_loss: 0.7552\n",
      "Epoch 76/100\n",
      "4/4 [==============================] - 0s 10ms/step - loss: 0.5750 - val_loss: 0.7527\n",
      "Epoch 77/100\n",
      "4/4 [==============================] - 0s 10ms/step - loss: 0.5748 - val_loss: 0.7504\n",
      "Epoch 78/100\n",
      "4/4 [==============================] - 0s 11ms/step - loss: 0.5762 - val_loss: 0.7482\n",
      "Epoch 79/100\n",
      "4/4 [==============================] - 0s 11ms/step - loss: 0.5744 - val_loss: 0.7505\n",
      "Epoch 80/100\n",
      "4/4 [==============================] - 0s 10ms/step - loss: 0.5766 - val_loss: 0.7548\n",
      "Epoch 81/100\n",
      "4/4 [==============================] - 0s 9ms/step - loss: 0.5746 - val_loss: 0.7539\n",
      "Epoch 82/100\n",
      "4/4 [==============================] - 0s 9ms/step - loss: 0.5745 - val_loss: 0.7438\n",
      "Epoch 83/100\n",
      "4/4 [==============================] - 0s 8ms/step - loss: 0.5735 - val_loss: 0.7467\n",
      "Epoch 84/100\n",
      "4/4 [==============================] - 0s 8ms/step - loss: 0.5739 - val_loss: 0.7441\n",
      "Epoch 85/100\n",
      "4/4 [==============================] - 0s 8ms/step - loss: 0.5712 - val_loss: 0.7447\n",
      "Epoch 86/100\n",
      "4/4 [==============================] - 0s 8ms/step - loss: 0.5721 - val_loss: 0.7438\n",
      "Epoch 87/100\n",
      "4/4 [==============================] - 0s 8ms/step - loss: 0.5727 - val_loss: 0.7442\n",
      "Epoch 88/100\n",
      "4/4 [==============================] - 0s 8ms/step - loss: 0.5728 - val_loss: 0.7435\n",
      "Epoch 89/100\n",
      "4/4 [==============================] - 0s 8ms/step - loss: 0.5725 - val_loss: 0.7458\n",
      "Epoch 90/100\n",
      "4/4 [==============================] - 0s 8ms/step - loss: 0.5703 - val_loss: 0.7480\n",
      "Epoch 91/100\n",
      "4/4 [==============================] - 0s 8ms/step - loss: 0.5764 - val_loss: 0.7507\n",
      "Epoch 92/100\n",
      "4/4 [==============================] - 0s 10ms/step - loss: 0.5747 - val_loss: 0.7449\n",
      "Epoch 93/100\n",
      "4/4 [==============================] - 0s 8ms/step - loss: 0.5755 - val_loss: 0.7422\n",
      "Epoch 94/100\n",
      "4/4 [==============================] - 0s 8ms/step - loss: 0.5756 - val_loss: 0.7450\n",
      "Epoch 95/100\n",
      "4/4 [==============================] - 0s 8ms/step - loss: 0.5738 - val_loss: 0.7455\n",
      "Epoch 96/100\n",
      "4/4 [==============================] - 0s 8ms/step - loss: 0.5734 - val_loss: 0.7474\n",
      "Epoch 97/100\n",
      "4/4 [==============================] - 0s 8ms/step - loss: 0.5733 - val_loss: 0.7447\n",
      "Epoch 98/100\n",
      "4/4 [==============================] - 0s 8ms/step - loss: 0.5747 - val_loss: 0.7406\n",
      "Epoch 99/100\n",
      "4/4 [==============================] - 0s 8ms/step - loss: 0.5744 - val_loss: 0.7430\n",
      "Epoch 100/100\n",
      "4/4 [==============================] - 0s 8ms/step - loss: 0.5762 - val_loss: 0.7528\n"
     ]
    }
   ],
   "source": [
    "# fitting the model and setting some parameters\n",
    "\n",
    "history = model.fit(\n",
    "    feat_train,\n",
    "    tar_train,\n",
    "    batch_size=32,\n",
    "    epochs=100,\n",
    "    validation_split = 0.1\n",
    ")"
   ]
  },
  {
   "cell_type": "code",
   "execution_count": 7,
   "metadata": {},
   "outputs": [
    {
     "data": {
      "image/png": "[encoded data removed]",
      "text/plain": [
       "<Figure size 640x480 with 1 Axes>"
      ]
     },
     "metadata": {},
     "output_type": "display_data"
    }
   ],
   "source": [
    "# plotting validation and train loss\n",
    "\n",
    "plt.plot(history.history['loss'])\n",
    "plt.plot(history.history['val_loss'])\n",
    "plt.title('model accuracy')\n",
    "plt.ylabel('loss')\n",
    "plt.xlabel('epoch')\n",
    "plt.legend(['train', 'val'], loc='upper left')\n",
    "plt.show()"
   ]
  },
  {
   "cell_type": "code",
   "execution_count": 8,
   "metadata": {},
   "outputs": [
    {
     "name": "stdout",
     "output_type": "stream",
     "text": [
      "2/2 [==============================] - 0s 2ms/step\n",
      "Coefficient of determination (r2 score): 0.2575\n"
     ]
    }
   ],
   "source": [
    "# evaluating performance on test set\n",
    "# tensorflow provides many error-related metrics\n",
    "# but it does not provide the R2 score (but we can still use scikit learn)\n",
    "\n",
    "tar_pred = model.predict(feat_test)\n",
    "\n",
    "print('Coefficient of determination (r2 score): %.4f'% sklearn.metrics.r2_score(tar_test, tar_pred))"
   ]
  },
  {
   "cell_type": "markdown",
   "metadata": {},
   "source": [
    "### 4. Follow up activities\n",
    "\n",
    "1. Try to improve performances."
   ]
  },
  {
   "cell_type": "code",
   "execution_count": null,
   "metadata": {},
   "outputs": [],
   "source": []
  }
 ],
 "metadata": {
  "kernelspec": {
   "display_name": "Python 3 (ipykernel)",
   "language": "python",
   "name": "python3"
  },
  "language_info": {
   "codemirror_mode": {
    "name": "ipython",
    "version": 3
   },
   "file_extension": ".py",
   "mimetype": "text/x-python",
   "name": "python",
   "nbconvert_exporter": "python",
   "pygments_lexer": "ipython3",
   "version": "3.11.7"
  }
 },
 "nbformat": 4,
 "nbformat_minor": 4
}
