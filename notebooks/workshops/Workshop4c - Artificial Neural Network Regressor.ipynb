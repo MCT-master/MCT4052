{
 "cells": [
  {
   "cell_type": "markdown",
   "metadata": {},
   "source": [
    "# MCT4052 Workshop 4c: Artificial Neural Network Regressor\n",
    "\n",
    "*Author: Stefano Fasciani, stefano.fasciani@imv.uio.no, Department of Musicology, University of Oslo.*\n",
    "\n",
    "This notebook includes the a regression problem similar to Workshop 4a and 4b, but in this case we use a more [MLP Regressor](https://scikit-learn.org/stable/modules/generated/sklearn.neural_network.MLPRegressor.html) to predict 2 target values.\n",
    "\n",
    "Predicting multiple quantities is possible with the MLP Regressor due to the flexibility of the the MLP Regressor architecture, which is an ANN designed to solve regression tasks. This is not possible with the regressors used in the previous notebooks. Compared to the MLP classifier, we can have at the output an arbitrary number of neurons (with fixed linear - aka identity - activation function) determined by the number of target values we try to predict."
   ]
  },
  {
   "cell_type": "code",
   "execution_count": 1,
   "metadata": {},
   "outputs": [],
   "source": [
    "import numpy as np\n",
    "import pandas as pd\n",
    "import librosa, librosa.display\n",
    "import matplotlib.pyplot as plt\n",
    "import matplotlib.style as ms\n",
    "#ms.use(\"seaborn-v0_8\") \n",
    "import IPython.display as Ipd\n",
    "import os\n",
    "import sklearn\n",
    "\n",
    "%matplotlib inline\n",
    "%config IPCompleter.greedy=True"
   ]
  },
  {
   "cell_type": "code",
   "execution_count": 2,
   "metadata": {},
   "outputs": [
    {
     "name": "stdout",
     "output_type": "stream",
     "text": [
      "Done!\n"
     ]
    }
   ],
   "source": [
    "sr = 22050\n",
    "\n",
    "#Instead of writing the code to extract the features and target value we define a function,\n",
    "#which is more elegant, it's reusable (shorter code) and makes the following code more readable.\n",
    "#For practicality, the vector features are flattenedm so that that can be stored on a row of a N-dim array\n",
    "\n",
    "#Mind that the file name is not important here because there is no label to consider (as in the previous examples)\n",
    "\n",
    "def extract_features_targets(filename, sr):\n",
    "    \n",
    "    signal, dummy = librosa.load(filename, sr=sr, mono=True)\n",
    "    \n",
    "    features = librosa.feature.melspectrogram(y=signal, sr=sr)\n",
    "    features = features.flatten()\n",
    "    \n",
    "    #preparing the output array\n",
    "    targets = np.zeros((1,2))\n",
    "    targets[0,0] = np.mean(librosa.feature.rms(y=signal))\n",
    "    targets[0,1] = np.mean(librosa.feature.spectral_flatness(y=signal))\n",
    "    \n",
    "    return features, targets\n",
    "\n",
    "\n",
    "#creating an array of zeros of the proper size where we will store computed features and lables\n",
    "filenames = os.listdir('./data/examples3')\n",
    "\n",
    "#to set the right number of columns, we call the extract_features_target() function and get the size of the features\n",
    "num_of_features = extract_features_targets('./data/examples3/'+filenames[0], sr)[0].size\n",
    "num_of_targets = extract_features_targets('./data/examples3/'+filenames[0], sr)[1].size\n",
    "features = np.zeros((len(filenames),num_of_features)) \n",
    "targets = np.zeros((len(filenames),num_of_targets))\n",
    "\n",
    "for i in range(len(filenames)):\n",
    "    #print('processing',filenames[i])\n",
    "    features[i,:], targets[i,:] = extract_features_targets('./data/examples3/'+filenames[i], sr)\n",
    "\n",
    "print('Done!')"
   ]
  },
  {
   "cell_type": "code",
   "execution_count": 3,
   "metadata": {},
   "outputs": [],
   "source": [
    "from sklearn.model_selection import train_test_split\n",
    "\n",
    "#splitting the dataset in training and testing parts\n",
    "feat_train, feat_test, tar_train, tar_test = train_test_split(features, targets, test_size=0.3, random_state=5)"
   ]
  },
  {
   "cell_type": "markdown",
   "metadata": {},
   "source": [
    "### Creating, training and testing the Multi Layer Perceptron (MLP) regressor"
   ]
  },
  {
   "cell_type": "code",
   "execution_count": 4,
   "metadata": {},
   "outputs": [
    {
     "name": "stdout",
     "output_type": "stream",
     "text": [
      "Iteration 1, loss = 0.21472595\n",
      "Iteration 2, loss = 0.51048014\n",
      "Iteration 3, loss = 0.10165449\n",
      "Iteration 4, loss = 0.08119504\n",
      "Iteration 5, loss = 0.05722611\n",
      "Iteration 6, loss = 0.03802705\n",
      "Iteration 7, loss = 0.03006601\n",
      "Iteration 8, loss = 0.02075465\n",
      "Iteration 9, loss = 0.01746502\n",
      "Iteration 10, loss = 0.01498764\n",
      "Iteration 11, loss = 0.01639168\n",
      "Iteration 12, loss = 0.01255647\n",
      "Iteration 13, loss = 0.00964003\n",
      "Iteration 14, loss = 0.00919720\n",
      "Iteration 15, loss = 0.01047223\n",
      "Iteration 16, loss = 0.01008744\n",
      "Iteration 17, loss = 0.00785081\n",
      "Iteration 18, loss = 0.00629979\n",
      "Iteration 19, loss = 0.00583934\n",
      "Iteration 20, loss = 0.00537780\n",
      "Iteration 21, loss = 0.00523173\n",
      "Iteration 22, loss = 0.00558508\n",
      "Iteration 23, loss = 0.00407057\n",
      "Iteration 24, loss = 0.00345647\n",
      "Iteration 25, loss = 0.00340153\n",
      "Iteration 26, loss = 0.00380284\n",
      "Iteration 27, loss = 0.00376463\n",
      "Iteration 28, loss = 0.00319086\n",
      "Iteration 29, loss = 0.00262695\n",
      "Iteration 30, loss = 0.00256462\n",
      "Iteration 31, loss = 0.00259696\n",
      "Iteration 32, loss = 0.00261237\n",
      "Iteration 33, loss = 0.00282434\n",
      "Iteration 34, loss = 0.00233239\n",
      "Iteration 35, loss = 0.00244685\n",
      "Iteration 36, loss = 0.00230793\n",
      "Iteration 37, loss = 0.00263398\n",
      "Iteration 38, loss = 0.00251660\n",
      "Iteration 39, loss = 0.00211740\n",
      "Iteration 40, loss = 0.00182509\n",
      "Iteration 41, loss = 0.00215525\n",
      "Iteration 42, loss = 0.00214307\n",
      "Iteration 43, loss = 0.00212193\n",
      "Iteration 44, loss = 0.00188741\n",
      "Iteration 45, loss = 0.00177181\n",
      "Iteration 46, loss = 0.00172957\n",
      "Iteration 47, loss = 0.00174942\n",
      "Iteration 48, loss = 0.00262939\n",
      "Iteration 49, loss = 0.00263612\n",
      "Iteration 50, loss = 0.00253011\n",
      "Iteration 51, loss = 0.00220569\n",
      "Training loss did not improve more than tol=0.000100 for 10 consecutive epochs. Stopping.\n"
     ]
    }
   ],
   "source": [
    "#Import the classifier\n",
    "from sklearn.neural_network import MLPRegressor\n",
    "\n",
    "##Creating an instance of a MLP regressor\n",
    "#and setting it some option (max mum epoch, verbose on, activation of neurons)\n",
    "mlp = MLPRegressor(hidden_layer_sizes=(200,100,50), max_iter=200, tol=0.0001, activation='tanh', verbose=True)\n",
    "\n",
    "#train the model\n",
    "mlp.fit(feat_train, tar_train)\n",
    "\n",
    "#applying the the model on the test data (features)\n",
    "tar_pred = mlp.predict(feat_test)"
   ]
  },
  {
   "cell_type": "markdown",
   "metadata": {},
   "source": [
    "### Displaying the loss curve over the training iterations and performance metrics"
   ]
  },
  {
   "cell_type": "code",
   "execution_count": 5,
   "metadata": {},
   "outputs": [
    {
     "data": {
      "image/png": "[encoded data removed]",
      "text/plain": [
       "<Figure size 640x480 with 1 Axes>"
      ]
     },
     "metadata": {},
     "output_type": "display_data"
    },
    {
     "name": "stdout",
     "output_type": "stream",
     "text": [
      "Mean squared error: 0.0621\n",
      "Mean absolute error: 0.1572\n",
      "Median absolute error: 0.0885\n",
      "Coefficient of determination (R2 score): -3.6559\n",
      "Explained variance score: -3.3944\n",
      "R2 score on individual targets [-6.47803092 -0.8337319 ]\n"
     ]
    }
   ],
   "source": [
    "#plotting the loss curve over training iteration \n",
    "plt.plot(mlp.loss_curve_)\n",
    "plt.xlabel('iteration')\n",
    "plt.xlabel('loss')\n",
    "plt.show()\n",
    "\n",
    "#computing a set of performance metrics\n",
    "\n",
    "#mean squared error (lower the better)\n",
    "print('Mean squared error: %.4f'% sklearn.metrics.mean_squared_error(tar_test, tar_pred))\n",
    "\n",
    "#mean absolute error (lower the better)\n",
    "print('Mean absolute error: %.4f'% sklearn.metrics.mean_absolute_error(tar_test, tar_pred))\n",
    "\n",
    "#median absolute error (lower the better)\n",
    "print('Median absolute error: %.4f'% sklearn.metrics.median_absolute_error(tar_test, tar_pred))\n",
    "\n",
    "#coefficient of determination (r2 score): 1 is perfect prediction (it can get arbitrary negative)\n",
    "print('Coefficient of determination (R2 score): %.4f'% sklearn.metrics.r2_score(tar_test, tar_pred))\n",
    "\n",
    "#explained variance score: 1 is perfect prediction (it can get arbitrary worse)\n",
    "print('Explained variance score: %.4f'% sklearn.metrics.explained_variance_score(tar_test, tar_pred))\n",
    "\n",
    "#this is is a better represenation of the r2 score when working with multiple outputs\n",
    "#as it provides a value for each target value\n",
    "print('R2 score on individual targets',sklearn.metrics.r2_score(tar_test, tar_pred, multioutput='raw_values') )"
   ]
  },
  {
   "cell_type": "markdown",
   "metadata": {},
   "source": [
    "### Follow-up activity\n",
    "\n",
    "1. Identify the cells (as well as the lines of code within the cells) of this notebook that are absolutely necessary to train and test the regressor.\n",
    "2. Make a fair assessment of the error, explore the dymanic range/magnitude of the target values versus the magnitude of the errors (and the performance metrics).\n",
    "3. Try to use the [StandardScaler](https://scikit-learn.org/stable/modules/generated/sklearn.preprocessing.StandardScaler.html) to scale the features, or also the target values, assess the change in the performances. If you use the scaler on the target value, apply the inverse_transform() method of the scaler to convert the regression output to the actual traget values.\n",
    "4. Explore the same technique to predict different features used as input and/or output fo the regressor. Or experiment by changing the parameters used to compute the features, such as (sampling rate, the n_fft, hop_lenght, n_mels, etc.)\n",
    "5. Experiment by changing the hyperparameters of the regressor.\n",
    "6. Reduce this regression progrem to the same presented in 4a and 4b (i.e. predict RMS only). Compare the performances with the other two regressors (ensure to use the same train/test split random state and scaler - if any).\n",
    "\n"
   ]
  },
  {
   "cell_type": "code",
   "execution_count": null,
   "metadata": {},
   "outputs": [],
   "source": []
  }
 ],
 "metadata": {
  "kernelspec": {
   "display_name": "Python 3 (ipykernel)",
   "language": "python",
   "name": "python3"
  },
  "language_info": {
   "codemirror_mode": {
    "name": "ipython",
    "version": 3
   },
   "file_extension": ".py",
   "mimetype": "text/x-python",
   "name": "python",
   "nbconvert_exporter": "python",
   "pygments_lexer": "ipython3",
   "version": "3.11.7"
  }
 },
 "nbformat": 4,
 "nbformat_minor": 4
}
