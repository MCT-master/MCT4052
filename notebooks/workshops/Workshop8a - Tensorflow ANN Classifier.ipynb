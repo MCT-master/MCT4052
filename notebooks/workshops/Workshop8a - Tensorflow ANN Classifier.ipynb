{
 "cells": [
  {
   "cell_type": "markdown",
   "metadata": {},
   "source": [
    "# MCT4052 Workshop 8a: Tensorflow-Keras ANN Classifier\n",
    "\n",
    "*Author: Stefano Fasciani, stefano.fasciani@imv.uio.no, Department of Musicology, University of Oslo.*\n",
    "\n",
    "[Tensorflow](https://www.tensorflow.org/) is a library for machine learning developed by Google, which is particularly focused on deep neural networks. Compared to scikit-learn, Tensorflow present a lof of advantages, especially for the real-world ddevelopment and deployment of machine learning applications (supports variety of programming language including JavaScript for the browser, optimized and GPU-accelerated computation including support for IoT platforms, etc.) Over the years, Tenrosflow (from version 2) has also integrated [Keras](https://keras.io/), which is a sort of high-level Python interface for Tensorflow (used to be distributed as a different package).\n",
    "\n",
    "When using Tensorflow in Python (especially if we want to remain on the easy side) we will often use sub packages that belongs to keras sub module.\n",
    "\n",
    "This and the following Tensorflow-Keras examples are adapted from the excellent collection of [Tensorflow Tutorials](https://www.tensorflow.org/tutorials). For more info refer to the [Tensorflow API](https://www.tensorflow.org/versions) and [Keras API](https://keras.io/api/). Mind that Tensorflow API changes fairly rapidly (compared to other packages/libraries). Therefore, it is good to keep track of which Tensorflow version was used for development.\n",
    "\n",
    "Generally, the latest versions of Tensorflow are able to work with data organized as Numpy arrays or Python lists (other then Tensors). However, the library provides tools to convert a variety of data formats [to tensors](https://www.tensorflow.org/api_docs/python/tf/convert_to_tensor), and Tensors have the method [.numpy()](https://www.tensorflow.org/api_docs/python/tf/Tensor) to convert Tensors to Numpy arrays.\n",
    "\n",
    "Tensorflow (as well as scikit-learn) models work with numerical inputs (inputs represent features or raw data). However, at times we might be working with textual annotation (e.g. songs metadata) which has to be converted to numbers (e.g. integers). Tensorflow provides plenty of utilities for this task (not hard to code that in Python by yourself) under the [feature_column](https://www.tensorflow.org/api_docs/python/tf/feature_column) module (for instance [this](https://www.tensorflow.org/api_docs/python/tf/feature_column/categorical_column_with_vocabulary_list) can be quite handy with metadata).\n",
    "\n",
    "Finally, [Tensorboard](https://www.tensorflow.org/tensorboard) provides handy visualization and tooling needed for machine learning experimentation, while [HParams Dashboard](https://www.tensorflow.org/tensorboard/hyperparameter_tuning_with_hparams) can help with automating hyperparameters tuning (to a certain extent, it may be preferred to use [Optuna](https://optuna.org/) as we can bring in into the search as many elements we want, including those non linked-depending on Tensorflow models).\n",
    "\n",
    "This notebook shows how to train, test and use an ANN for classification in tensorflow. We use the same dataset used in earlier Workshops. Besides performing the training/testing task, we also explore some of the additional options/parameters that Tensorflow allow us to specify/customize. Mind that often in Tensorflow documentation/tutorials authors build classess/methods on top of Tensorflo API, which is something we are not doing in this notebook."
   ]
  },
  {
   "cell_type": "markdown",
   "metadata": {},
   "source": [
    "### 1. Importing Tensorflow and Keras\n",
    "\n",
    "It is important to check the version we are using (this was written with 2.7)."
   ]
  },
  {
   "cell_type": "code",
   "execution_count": 1,
   "metadata": {},
   "outputs": [
    {
     "name": "stderr",
     "output_type": "stream",
     "text": [
      "2024-02-29 20:02:43.103156: I tensorflow/core/platform/cpu_feature_guard.cc:182] This TensorFlow binary is optimized to use available CPU instructions in performance-critical operations.\n",
      "To enable the following instructions: AVX2 FMA, in other operations, rebuild TensorFlow with the appropriate compiler flags.\n"
     ]
    },
    {
     "name": "stdout",
     "output_type": "stream",
     "text": [
      "2.15.0\n"
     ]
    }
   ],
   "source": [
    "import numpy as np\n",
    "import pandas as pd\n",
    "import librosa, librosa.display\n",
    "import matplotlib.pyplot as plt\n",
    "import matplotlib.style as ms\n",
    "#ms.use(\"seaborn-v0_8\")\n",
    "import IPython.display as Ipd\n",
    "import os\n",
    "import sklearn\n",
    "import scipy\n",
    "import datetime\n",
    "\n",
    "%matplotlib inline\n",
    "%config IPCompleter.greedy=True\n",
    "\n",
    "# Import TensorFlow and Keras\n",
    "import tensorflow as tf\n",
    "\n",
    "# display tensorflow version (this notwbook was developed with 2.15)\n",
    "print(tf.__version__)"
   ]
  },
  {
   "cell_type": "markdown",
   "metadata": {},
   "source": [
    "### 2. Computing features and splitting the dataset\n",
    "\n",
    "This time we store the features in an numpy array of matrices (i.e. a 3D array) ad tensorflow is able to \"flatten\" the data internally (is instructed to do so)."
   ]
  },
  {
   "cell_type": "code",
   "execution_count": 2,
   "metadata": {},
   "outputs": [
    {
     "name": "stdout",
     "output_type": "stream",
     "text": [
      "Done!\n"
     ]
    }
   ],
   "source": [
    "sr = 44100\n",
    "\n",
    "def lin_interp_2d(data, out_size):\n",
    "    \n",
    "    x_in_size = data.shape[1]\n",
    "    y_in_size = data.shape[0]\n",
    "    x_in = np.arange(0,x_in_size)\n",
    "    y_in = np.arange(0,y_in_size)\n",
    "    interpolator = scipy.interpolate.RegularGridInterpolator((x_in, y_in), data.T, method='linear', bounds_error=False)\n",
    "    x_out = np.arange(0,x_in_size-1,((x_in_size-1)/out_size[1]))\n",
    "    y_out = np.arange(0,y_in_size-1,((y_in_size-1)/out_size[0]))\n",
    "    x_out, y_out = np.meshgrid(x_out, y_out, indexing='ij', sparse=True)\n",
    "    output = interpolator((x_out, y_out)).T\n",
    "    output = output[0:out_size[0],0:out_size[1]]\n",
    "\n",
    "    return output\n",
    "\n",
    "def extract_features(filename, sr):\n",
    "    \n",
    "    signal, dummy = librosa.load(filename, sr=sr, mono=True)\n",
    "    output = librosa.feature.mfcc(y=signal, n_mfcc=15)\n",
    "    output = lin_interp_2d(output, (15,15)) # scaling to identical lenght\n",
    "    \n",
    "    return output\n",
    "\n",
    "filenames = os.listdir('./data/examples2')\n",
    "features = np.zeros((len(filenames),15,15)) #3D Numpy array to store MFCC computed e changed if using more or less features)\n",
    "labels = np.zeros((len(filenames)))\n",
    "classes = ['kick','snare','cymbal','clap']\n",
    "\n",
    "for i in range(len(filenames)):\n",
    "    features[i] = extract_features('./data/examples2/'+filenames[i], sr) # alternative features[i,:,:]\n",
    "    if filenames[i].find('kick') != -1:\n",
    "        labels[i] = 0\n",
    "    elif filenames[i].find('snare') != -1:\n",
    "        labels[i] = 1\n",
    "    elif filenames[i].find('cymbal') != -1:\n",
    "        labels[i] = 2\n",
    "    elif filenames[i].find('clap') != -1:\n",
    "        labels[i] = 3\n",
    "\n",
    "print('Done!')"
   ]
  },
  {
   "cell_type": "code",
   "execution_count": 3,
   "metadata": {},
   "outputs": [
    {
     "data": {
      "image/png": "[encoded data removed]",
      "text/plain": [
       "<Figure size 640x480 with 2 Axes>"
      ]
     },
     "metadata": {},
     "output_type": "display_data"
    }
   ],
   "source": [
    "# displaying the MFCC for one example (change the integer to see a different example)\n",
    "# This is a simple plotting using imshow (on the frequency axis low frequency are on top)\n",
    "\n",
    "plt.figure()\n",
    "plt.imshow(features[0], origin='lower') #change the index inside []\n",
    "plt.colorbar()\n",
    "plt.grid(False)\n",
    "plt.show()"
   ]
  },
  {
   "cell_type": "code",
   "execution_count": 4,
   "metadata": {},
   "outputs": [],
   "source": [
    "# for the splitting we still use scikit learn\n",
    "\n",
    "from sklearn.model_selection import train_test_split\n",
    "\n",
    "#splitting the dataset in training and testing parts\n",
    "feat_train, feat_test, lab_train, lab_test = train_test_split(features, labels, test_size=0.2)"
   ]
  },
  {
   "cell_type": "markdown",
   "metadata": {},
   "source": [
    "### 3. Defining, compiling, training and using the ANN\n",
    "\n",
    "At first we define a [sequential model](https://keras.io/api/models/sequential/) which dimensionality has to match the input and expected output. The sequential model can stack any sequence of [layers](https://keras.io/api/layers/).\n",
    "\n",
    "Then we compile the model specifying the [loss function](https://www.tensorflow.org/api_docs/python/tf/keras/losses) and [metric](https://www.tensorflow.org/api_docs/python/tf/keras/metrics) to evaluate performances.\n",
    "\n",
    "Then we fit the model, keeping track fo the history and specifying several parameters (refer to the documentation of the [fit](https://www.tensorflow.org/api_docs/python/tf/keras/Model) method.\n",
    "\n",
    "Finally we display losses, assess performance on test set, and use the trained model to make a single prediction."
   ]
  },
  {
   "cell_type": "code",
   "execution_count": 5,
   "metadata": {},
   "outputs": [
    {
     "name": "stdout",
     "output_type": "stream",
     "text": [
      "Model: \"sequential\"\n",
      "_________________________________________________________________\n",
      " Layer (type)                Output Shape              Param #   \n",
      "=================================================================\n",
      " flatten (Flatten)           (None, 225)               0         \n",
      "                                                                 \n",
      " dense (Dense)               (None, 20)                4520      \n",
      "                                                                 \n",
      " dense_1 (Dense)             (None, 4)                 84        \n",
      "                                                                 \n",
      "=================================================================\n",
      "Total params: 4604 (17.98 KB)\n",
      "Trainable params: 4604 (17.98 KB)\n",
      "Non-trainable params: 0 (0.00 Byte)\n",
      "_________________________________________________________________\n"
     ]
    }
   ],
   "source": [
    "# building the model, the input layer must match the input data\n",
    "# for classification we need an output for each class\n",
    "\n",
    "model = tf.keras.Sequential([\n",
    "    tf.keras.layers.Flatten(input_shape=(15, 15)),\n",
    "    tf.keras.layers.Dense(20, activation='relu'),\n",
    "    tf.keras.layers.Dense(4)\n",
    "])\n",
    "\n",
    "model.summary()"
   ]
  },
  {
   "cell_type": "code",
   "execution_count": 6,
   "metadata": {},
   "outputs": [],
   "source": [
    "# setting loss function and metric\n",
    "\n",
    "model.compile(optimizer='adam',\n",
    "              loss=tf.keras.losses.SparseCategoricalCrossentropy(from_logits=True),\n",
    "              metrics=['accuracy'])"
   ]
  },
  {
   "cell_type": "code",
   "execution_count": 7,
   "metadata": {},
   "outputs": [
    {
     "name": "stdout",
     "output_type": "stream",
     "text": [
      "Epoch 1/20\n",
      "15/15 [==============================] - 1s 13ms/step - loss: 40.2767 - accuracy: 0.3950 - val_loss: 14.4827 - val_accuracy: 0.4286\n",
      "Epoch 2/20\n",
      "15/15 [==============================] - 0s 3ms/step - loss: 14.2613 - accuracy: 0.5378 - val_loss: 11.3609 - val_accuracy: 0.5714\n",
      "Epoch 3/20\n",
      "15/15 [==============================] - 0s 4ms/step - loss: 6.4968 - accuracy: 0.6555 - val_loss: 2.8986 - val_accuracy: 0.7857\n",
      "Epoch 4/20\n",
      "15/15 [==============================] - 0s 3ms/step - loss: 3.1353 - accuracy: 0.7479 - val_loss: 3.5662 - val_accuracy: 0.7857\n",
      "Epoch 5/20\n",
      "15/15 [==============================] - 0s 3ms/step - loss: 1.3949 - accuracy: 0.8403 - val_loss: 1.2690 - val_accuracy: 0.7857\n",
      "Epoch 6/20\n",
      "15/15 [==============================] - 0s 3ms/step - loss: 1.0491 - accuracy: 0.8908 - val_loss: 1.4613 - val_accuracy: 0.8571\n",
      "Epoch 7/20\n",
      "15/15 [==============================] - 0s 3ms/step - loss: 0.6488 - accuracy: 0.8992 - val_loss: 1.8303 - val_accuracy: 0.7857\n",
      "Epoch 8/20\n",
      "15/15 [==============================] - 0s 3ms/step - loss: 0.3424 - accuracy: 0.9580 - val_loss: 0.3143 - val_accuracy: 0.9286\n",
      "Epoch 9/20\n",
      "15/15 [==============================] - 0s 3ms/step - loss: 0.3643 - accuracy: 0.9160 - val_loss: 3.4165 - val_accuracy: 0.7857\n",
      "Epoch 10/20\n",
      "15/15 [==============================] - 0s 3ms/step - loss: 0.2110 - accuracy: 0.9412 - val_loss: 0.2410 - val_accuracy: 0.8571\n",
      "Epoch 11/20\n",
      "15/15 [==============================] - 0s 3ms/step - loss: 0.2320 - accuracy: 0.9748 - val_loss: 1.6764 - val_accuracy: 0.7857\n",
      "Epoch 12/20\n",
      "15/15 [==============================] - 0s 3ms/step - loss: 0.0648 - accuracy: 0.9832 - val_loss: 1.1566 - val_accuracy: 0.7857\n",
      "Epoch 13/20\n",
      "15/15 [==============================] - 0s 3ms/step - loss: 0.0768 - accuracy: 0.9832 - val_loss: 2.0662 - val_accuracy: 0.7857\n",
      "Epoch 14/20\n",
      "15/15 [==============================] - 0s 3ms/step - loss: 0.0636 - accuracy: 0.9832 - val_loss: 1.9646 - val_accuracy: 0.7857\n",
      "Epoch 15/20\n",
      "15/15 [==============================] - 0s 4ms/step - loss: 0.0156 - accuracy: 0.9916 - val_loss: 1.3795 - val_accuracy: 0.7857\n",
      "Epoch 16/20\n",
      "15/15 [==============================] - 0s 3ms/step - loss: 0.0100 - accuracy: 1.0000 - val_loss: 2.1691 - val_accuracy: 0.7857\n",
      "Epoch 17/20\n",
      "15/15 [==============================] - 0s 4ms/step - loss: 0.0126 - accuracy: 0.9916 - val_loss: 1.7333 - val_accuracy: 0.7857\n",
      "Epoch 18/20\n",
      "15/15 [==============================] - 0s 3ms/step - loss: 0.0387 - accuracy: 0.9916 - val_loss: 2.2893 - val_accuracy: 0.7857\n",
      "Epoch 19/20\n",
      "15/15 [==============================] - 0s 3ms/step - loss: 0.0112 - accuracy: 0.9916 - val_loss: 1.3116 - val_accuracy: 0.8571\n",
      "Epoch 20/20\n",
      "15/15 [==============================] - 0s 3ms/step - loss: 0.0503 - accuracy: 0.9832 - val_loss: 2.5869 - val_accuracy: 0.7857\n"
     ]
    }
   ],
   "source": [
    "# fitting the model and setting some parameters\n",
    "\n",
    "history = model.fit(\n",
    "    feat_train,\n",
    "    lab_train,\n",
    "    batch_size=8,\n",
    "    epochs=20,\n",
    "    validation_split = 0.1,\n",
    "    shuffle=True\n",
    ")"
   ]
  },
  {
   "cell_type": "code",
   "execution_count": 8,
   "metadata": {},
   "outputs": [
    {
     "data": {
      "image/png": "[encoded data removed]",
      "text/plain": [
       "<Figure size 640x480 with 1 Axes>"
      ]
     },
     "metadata": {},
     "output_type": "display_data"
    }
   ],
   "source": [
    "# plotting validation and train loss\n",
    "\n",
    "plt.plot(history.history['loss'])\n",
    "plt.plot(history.history['val_loss'])\n",
    "plt.title('model accuracy')\n",
    "plt.ylabel('loss')\n",
    "plt.xlabel('epoch')\n",
    "plt.legend(['train', 'val'], loc='upper left')\n",
    "plt.show()"
   ]
  },
  {
   "cell_type": "code",
   "execution_count": 9,
   "metadata": {},
   "outputs": [
    {
     "name": "stdout",
     "output_type": "stream",
     "text": [
      "2/2 - 0s - loss: 0.8634 - accuracy: 0.8529 - 20ms/epoch - 10ms/step\n",
      "\n",
      "Test accuracy: 0.8529411554336548\n"
     ]
    }
   ],
   "source": [
    "# evaluating performance on test set\n",
    "\n",
    "test_loss, test_acc = model.evaluate(feat_test,  lab_test, verbose=2)\n",
    "\n",
    "print('\\nTest accuracy:', test_acc)"
   ]
  },
  {
   "cell_type": "code",
   "execution_count": 10,
   "metadata": {},
   "outputs": [
    {
     "name": "stdout",
     "output_type": "stream",
     "text": [
      "2/2 [==============================] - 0s 2ms/step\n",
      "[[ 96.64277    52.997612  153.54802   105.36223  ]\n",
      " [ 29.847784   34.88958    51.120754   48.95475  ]\n",
      " [ 72.690735   85.71104   103.79523    73.206406 ]\n",
      " [ 88.65704    69.248566  143.9821     93.14092  ]\n",
      " [ -8.281995   43.492664   47.772785   51.21343  ]\n",
      " [ 74.94591    64.061844  123.09025    89.88676  ]\n",
      " [ -4.0239253  44.39354    24.171616   35.9612   ]\n",
      " [ 39.56405    62.2698     72.65526    68.98236  ]\n",
      " [  5.8729463  91.46022     4.5795584 -14.425811 ]\n",
      " [ 59.093      80.23524    46.648285   56.840603 ]\n",
      " [ 39.906532   53.413754   82.40163    69.1561   ]\n",
      " [121.25583    70.071045   63.251347   47.685543 ]\n",
      " [ 82.17334    58.101868  107.05409   105.625565 ]\n",
      " [-34.762947  -56.682213  -11.570726   15.837526 ]\n",
      " [  2.5442777  50.479416   10.158565    5.564011 ]\n",
      " [-45.634308   89.367424  -14.151605  -26.16524  ]\n",
      " [127.745514   65.699814   69.57025    59.415417 ]\n",
      " [115.21156    61.613632   65.59192    59.346844 ]\n",
      " [117.824234   76.7948     61.435604   61.913662 ]\n",
      " [-16.721087   23.918879  110.77547   133.9829   ]\n",
      " [ 74.73089    82.883064  116.10632   122.906525 ]\n",
      " [106.51971    86.65881    53.75566    56.223255 ]\n",
      " [ 83.662895   50.950188  156.01881   115.32812  ]\n",
      " [119.185104  107.10822    35.820858   40.957363 ]\n",
      " [ 31.010704   97.960365   14.308148   14.61475  ]\n",
      " [ 44.868816   70.23017    39.832775   51.819706 ]\n",
      " [115.30017    76.50485    63.513386   59.04611  ]\n",
      " [ 98.25926    83.68851   129.48611    77.47454  ]\n",
      " [ 35.792118  105.57646   117.26795    43.414192 ]\n",
      " [-20.663876   52.517307   -2.9119694   2.5835793]\n",
      " [138.2764     68.93801    53.7177     45.994995 ]\n",
      " [-64.70523     5.22867    47.66728    63.91611  ]\n",
      " [-57.113316   82.11793    -2.8532498 -28.485775 ]\n",
      " [ 76.750244   60.372025   97.303246  100.7973   ]]\n"
     ]
    }
   ],
   "source": [
    "# predictions on the entire test set\n",
    "\n",
    "predictions = model.predict(feat_test)\n",
    "print(predictions)"
   ]
  },
  {
   "cell_type": "code",
   "execution_count": 11,
   "metadata": {},
   "outputs": [
    {
     "name": "stdout",
     "output_type": "stream",
     "text": [
      "1/1 [==============================] - 0s 15ms/step\n",
      "[[ 96.642815  52.99765  153.54797  105.36219 ]]\n",
      "2\n"
     ]
    }
   ],
   "source": [
    "# predictions on a single example (first we have to convert it to (0, 15, 15)  entire test set\n",
    "\n",
    "example = feat_test[0,:,:]\n",
    "\n",
    "example = (np.expand_dims(example,0))\n",
    "\n",
    "prediction = model.predict(example)\n",
    "\n",
    "print(prediction)\n",
    "print(np.argmax(prediction))"
   ]
  },
  {
   "cell_type": "code",
   "execution_count": 12,
   "metadata": {},
   "outputs": [
    {
     "name": "stdout",
     "output_type": "stream",
     "text": [
      "1/1 [==============================] - 0s 37ms/step\n",
      "[[1.9337639e-25 0.0000000e+00 1.0000000e+00 1.1835325e-21]]\n",
      "2\n"
     ]
    }
   ],
   "source": [
    "# adding a softmax layer for probabilistic output\n",
    "probability_model = tf.keras.Sequential([model, \n",
    "                                         tf.keras.layers.Softmax()])\n",
    "\n",
    "example = feat_test[0,:,:]\n",
    "\n",
    "example = (np.expand_dims(example,0))\n",
    "\n",
    "prediction = probability_model.predict(example)\n",
    "\n",
    "print(prediction)\n",
    "print(np.argmax(prediction))"
   ]
  },
  {
   "cell_type": "markdown",
   "metadata": {},
   "source": [
    "### 4. Follow up activities\n",
    "\n",
    "1. Use the [ModelCheckpoint](https://www.tensorflow.org/api_docs/python/tf/keras/callbacks/ModelCheckpoint) to automatically save models throughout the training process.\n",
    "\n",
    "2. Use the [EarlyStopping](https://www.tensorflow.org/api_docs/python/tf/keras/callbacks/EarlyStopping) to terminate the training based onn a condition rather than completing a given number of epochs.\n",
    "\n",
    "3. Display Tensorboard visualizations by adding the code in the cell below\n",
    "\n",
    "4. Try to change the network architecture by:\n",
    " * Accepting an input that has been already \"flattened\" (requires to change also feature generation)\n",
    " * Integrate the softax layer from the very beginning (rather than a post addition)\n",
    " * Add extra hidden layers\n",
    " * Add a [Dropout](https://www.tensorflow.org/api_docs/python/tf/keras/layers/Dropout) layer to avoid overfitting (can be handy when working on 5).\n",
    " * Add a [Normalization](https://www.tensorflow.org/api_docs/python/tf/keras/layers/Normalization) layer at the beginning of the network (can be handy since the scikit learn scaler does not work with 3D Numpy arrays)\n",
    " \n",
    "5. Following this [tutorial](https://www.tensorflow.org/tutorials/audio/simple_audio), try to run the classification working directly on rad audio (load only the first 200ms of audio, all files should be at least 200ms long). In particular, use the method [tf.audio.decode_wav](https://www.tensorflow.org/api_docs/python/tf/audio/decode_wav) to load raw audio into a tensor (you can still use librosa if you prefer).\n",
    "\n",
    "6. Experiment with your own data.\n"
   ]
  },
  {
   "cell_type": "code",
   "execution_count": null,
   "metadata": {},
   "outputs": [],
   "source": [
    "# load tensorboard (do this early in the notebook)\n",
    "%load_ext tensorboard\n",
    "\n",
    "# these must be somewhere before the fit method (also, is a good practice to clear the folder before running, using \"!rm -rf ./logs/\")\n",
    "log_dir = \"logs/fit/\" + datetime.datetime.now().strftime(\"%Y%m%d-%H%M%S\")\n",
    "tensorboard_callback = tf.keras.callbacks.TensorBoard(log_dir=log_dir, histogram_freq=1)\n",
    "\n",
    "callbacks=[tensorboard_callback] # this is a parameter for the fit method\n",
    "\n",
    "# after the model had been trained run this\n",
    "%tensorboard --logdir logs/fit"
   ]
  },
  {
   "cell_type": "code",
   "execution_count": null,
   "metadata": {},
   "outputs": [],
   "source": []
  }
 ],
 "metadata": {
  "kernelspec": {
   "display_name": "Python 3 (ipykernel)",
   "language": "python",
   "name": "python3"
  },
  "language_info": {
   "codemirror_mode": {
    "name": "ipython",
    "version": 3
   },
   "file_extension": ".py",
   "mimetype": "text/x-python",
   "name": "python",
   "nbconvert_exporter": "python",
   "pygments_lexer": "ipython3",
   "version": "3.11.7"
  }
 },
 "nbformat": 4,
 "nbformat_minor": 4
}
