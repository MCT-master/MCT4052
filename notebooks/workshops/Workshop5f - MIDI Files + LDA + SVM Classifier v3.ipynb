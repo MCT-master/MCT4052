{
 "cells": [
  {
   "cell_type": "markdown",
   "metadata": {},
   "source": [
    "# MCT4052 Workshop 5f: MIDI Files + LDA + SVM Classifier v3\n",
    "\n",
    "*Author: Stefano Fasciani, stefano.fasciani@imv.uio.no, Department of Musicology, University of Oslo.*\n",
    "\n",
    "The notebooks Workshop 5b to 5h integrates a stage of dimensionality reduction with different type of machine learning technique (classification, regression, clustering) on audio or MIDI data. The machine learning techniques included in this set of examples are those from previous workshops."
   ]
  },
  {
   "cell_type": "code",
   "execution_count": 1,
   "metadata": {},
   "outputs": [],
   "source": [
    "import numpy as np\n",
    "import pandas as pd\n",
    "import scipy\n",
    "import librosa, librosa.display\n",
    "import matplotlib.pyplot as plt\n",
    "import matplotlib.style as ms\n",
    "ms.use(\"seaborn-v0_8\")\n",
    "import IPython.display as Ipd\n",
    "import os\n",
    "import sklearn\n",
    "import pretty_midi\n",
    "\n",
    "%matplotlib inline\n",
    "%config IPCompleter.greedy=True"
   ]
  },
  {
   "cell_type": "code",
   "execution_count": 2,
   "metadata": {},
   "outputs": [
    {
     "name": "stdout",
     "output_type": "stream",
     "text": [
      "processing kpop_HTX0416.mid\n",
      "processing kpop_HTX0172.mid\n",
      "processing latin_RC0162.mid\n",
      "processing kpop_HTX0411.mid\n",
      "processing latin_RC1682.mid\n",
      "processing latin_RC0159.mid\n",
      "processing kpop_HTX0413.mid\n",
      "processing jazz_Lr1966.mid\n",
      "processing latin_RC0881.mid\n",
      "processing jazz_AP3115LB.mid\n",
      "processing jazz_Lr1274.mid\n",
      "processing latin_RC0928.mid\n",
      "processing jazz_Lr2022.mid\n",
      "processing latin_RC2257.mid\n",
      "processing jazz_Lr1070.mid\n",
      "processing latin_RC0236.mid\n",
      "processing jazz_Lr0731.mid\n",
      "processing latin_RC0223.mid\n",
      "processing latin_RC0182.mid\n",
      "processing jazz_Lr1942.mid\n",
      "processing kpop_HTX0423.mid\n",
      "processing jazz_CT0144.mid\n",
      "processing kpop_HTX0420.mid\n",
      "processing kpop_HTX0418.mid\n",
      "processing kpop_HTX0430.mid\n",
      "processing kpop_HTX0424.mid\n",
      "processing kpop_HTX0427.mid\n",
      "processing jazz_Lr1172.mid\n",
      "processing jazz_AP3107LB.mid\n",
      "processing latin_RC2586.mid\n",
      "Done!\n"
     ]
    }
   ],
   "source": [
    "\n",
    "def extract_features(filename):\n",
    "    \n",
    "    pm = pretty_midi.PrettyMIDI(filename)\n",
    "    \n",
    "    output = pm.get_pitch_class_transition_matrix().mean()\n",
    "    \n",
    "    output = np.append(output,pm.get_pitch_class_transition_matrix().var())\n",
    "    \n",
    "    output = np.append(output,pm.get_pitch_class_histogram())\n",
    "    \n",
    "    output = np.append(output,len(pm.instruments))\n",
    "    \n",
    "    return output\n",
    "\n",
    "\n",
    "filenames = os.listdir('./data/examples6')\n",
    "num_of_features = len(extract_features('./data/examples6/'+filenames[0]))\n",
    "features = np.zeros((len(filenames),num_of_features)) \n",
    "labels = np.zeros((len(filenames))) \n",
    "classes = ['kpop','latin','jazz']\n",
    "\n",
    "for i in range(len(filenames)):\n",
    "    print('processing',filenames[i])\n",
    "    features[i,:] = extract_features('./data/examples6/'+filenames[i])\n",
    "    if filenames[i].find(classes[0]) != -1:\n",
    "        labels[i] = 0\n",
    "    elif filenames[i].find(classes[1]) != -1:\n",
    "        labels[i] = 1\n",
    "    elif filenames[i].find(classes[2]) != -1:\n",
    "        labels[i] = 2\n",
    "\n",
    "print('Done!')"
   ]
  },
  {
   "cell_type": "code",
   "execution_count": 3,
   "metadata": {},
   "outputs": [],
   "source": [
    "#this step converts the labels from a numpy array to \n",
    "#a Pandas series, which allows backtracing misclassified examples\n",
    "#scikitlearn can handle features or labels also as Pandas formats\n",
    "labels = pd.Series(labels)"
   ]
  },
  {
   "cell_type": "code",
   "execution_count": 4,
   "metadata": {},
   "outputs": [],
   "source": [
    "from sklearn.model_selection import train_test_split\n",
    "\n",
    "#splitting the dataset in training and testing parts\n",
    "feat_train, feat_test, lab_train, lab_test = train_test_split(features, labels, test_size=0.3, random_state=17)"
   ]
  },
  {
   "cell_type": "code",
   "execution_count": 5,
   "metadata": {},
   "outputs": [],
   "source": [
    "#learning the scaling transformation from the train data and applying it to both train and test set.\n",
    "\n",
    "#creating scaling object\n",
    "scaler = sklearn.preprocessing.StandardScaler()\n",
    "\n",
    "#learning scaling from train set\n",
    "scaler.fit(feat_train)\n",
    "\n",
    "#applying scaling to both train and test set\n",
    "feat_train = scaler.transform(feat_train)\n",
    "feat_test = scaler.transform(feat_test)"
   ]
  },
  {
   "cell_type": "code",
   "execution_count": 6,
   "metadata": {},
   "outputs": [
    {
     "data": {
      "image/png": "[encoded data removed]",
      "text/plain": [
       "<Figure size 800x800 with 1 Axes>"
      ]
     },
     "metadata": {},
     "output_type": "display_data"
    }
   ],
   "source": [
    "#Creating an instance of the LDA object, which is an object capable of learning and applying LDA from/to data.\n",
    "from sklearn.discriminant_analysis import LinearDiscriminantAnalysis\n",
    "#lda will keep a number of components equal to numner of classes -1\n",
    "lda = LinearDiscriminantAnalysis()\n",
    "\n",
    "\n",
    "#This will learn LDA projection from train data\n",
    "lda.fit(feat_train,lab_train)\n",
    "\n",
    "#Now we project the data using LDA\n",
    "projected_features_train = lda.transform(feat_train)\n",
    "projected_features_test = lda.transform(feat_test)\n",
    "\n",
    "#this is only for scatter plot purposes\n",
    "projected_features = lda.transform(scaler.transform(features))\n",
    "\n",
    "\n",
    "#Plot the distribution of the data according to the first two principle components\n",
    "with plt.style.context('seaborn-whitegrid'):\n",
    "    plt.figure(figsize=(8, 8))\n",
    "    for lab_val, lab_name in zip(range(0,len(classes)),classes):\n",
    "        plt.scatter(projected_features[labels==lab_val, 0],\n",
    "                    projected_features[labels==lab_val, 1],\n",
    "                    label=lab_name)\n",
    "    plt.xlabel('1st LDA Component')\n",
    "    plt.ylabel('2nd LDA Component')\n",
    "    plt.legend(loc='lower center')\n",
    "    plt.tight_layout()\n",
    "    plt.show()"
   ]
  },
  {
   "cell_type": "code",
   "execution_count": 7,
   "metadata": {},
   "outputs": [
    {
     "name": "stdout",
     "output_type": "stream",
     "text": [
      "Number of mislabeled samples 3 out of 9\n",
      "Accuracy: 0.6666666666666666\n"
     ]
    }
   ],
   "source": [
    "#Creating an instance of a SVM classifier\n",
    "model_SVM = sklearn.svm.SVC(kernel='poly', C=1.0)\n",
    "\n",
    "#training the model\n",
    "model_SVM.fit(projected_features_train, lab_train)\n",
    "\n",
    "#applying the the model on the test data (features)\n",
    "lab_predict = model_SVM.predict(projected_features_test)\n",
    "\n",
    "\n",
    "#print the number of misclassified samples, accuracy and complete report (using scikit learn metric tools) \n",
    "print('Number of mislabeled samples %d out of %d' % ((lab_test != lab_predict).sum(),lab_test.size))\n",
    "print('Accuracy:',sklearn.metrics.accuracy_score(lab_test, lab_predict))"
   ]
  },
  {
   "cell_type": "code",
   "execution_count": 8,
   "metadata": {},
   "outputs": [
    {
     "name": "stdout",
     "output_type": "stream",
     "text": [
      "              precision    recall  f1-score   support\n",
      "\n",
      "         0.0       0.67      0.67      0.67         3\n",
      "         1.0       1.00      0.33      0.50         3\n",
      "         2.0       0.60      1.00      0.75         3\n",
      "\n",
      "    accuracy                           0.67         9\n",
      "   macro avg       0.76      0.67      0.64         9\n",
      "weighted avg       0.76      0.67      0.64         9\n",
      "\n",
      "[[2 0 1]\n",
      " [1 1 1]\n",
      " [0 0 3]]\n"
     ]
    }
   ],
   "source": [
    "#computing a comprehensive set of performance metrics\n",
    "print(sklearn.metrics.classification_report(lab_test, lab_predict))\n",
    "\n",
    "print(sklearn.metrics.confusion_matrix(lab_test, lab_predict))"
   ]
  },
  {
   "cell_type": "code",
   "execution_count": 9,
   "metadata": {},
   "outputs": [
    {
     "name": "stdout",
     "output_type": "stream",
     "text": [
      "latin_RC0182.mid\n",
      "latin_RC0928.mid\n",
      "kpop_HTX0430.mid\n"
     ]
    }
   ],
   "source": [
    "#displaying names of misclassified files\n",
    "results = lab_test == lab_predict\n",
    "for index, value in results.items():\n",
    "    if value == False:\n",
    "        print(filenames[index])\n"
   ]
  },
  {
   "cell_type": "code",
   "execution_count": null,
   "metadata": {},
   "outputs": [],
   "source": []
  }
 ],
 "metadata": {
  "kernelspec": {
   "display_name": "Python 3 (ipykernel)",
   "language": "python",
   "name": "python3"
  },
  "language_info": {
   "codemirror_mode": {
    "name": "ipython",
    "version": 3
   },
   "file_extension": ".py",
   "mimetype": "text/x-python",
   "name": "python",
   "nbconvert_exporter": "python",
   "pygments_lexer": "ipython3",
   "version": "3.9.13"
  }
 },
 "nbformat": 4,
 "nbformat_minor": 4
}
