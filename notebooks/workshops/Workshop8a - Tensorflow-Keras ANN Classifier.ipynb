{
 "cells": [
  {
   "cell_type": "markdown",
   "metadata": {},
   "source": [
    "# MCT4052 Workshop 8a: Tensorflow-Keras ANN Classifier\n",
    "\n",
    "*Author: Stefano Fasciani, stefano.fasciani@imv.uio.no, Department of Musicology, University of Oslo.*\n",
    "\n",
    "[Tensorflow](https://www.tensorflow.org/) is a library for machine learning developed by Google, which is particularly focused on deep neural networks. Compared to scikit-learn, Tensorflow present a lof of advantages, especially for the real-world ddevelopment and deployment of machine learning applications (supports variety of programming language including JavaScript for the browser, optimized and GPU-accelerated computation including support for IoT platforms, etc.) Over the years, Tenrosflow (from version 2) has also integrated [Keras](https://keras.io/), which is a sort of Python interface for Tensorflow (used to be distributed as a different package).\n",
    "\n",
    "When using Tensorflow in Python (especially if we want to remain on the easy side) we will often use sub packages that belongs to keras sub module.\n",
    "\n",
    "This and the following Tensorflow-Keras examples are adapted from the excellent collection of [Tensorflow Tutorials](https://www.tensorflow.org/tutorials). For more info refer to the [Tensorflow API](https://www.tensorflow.org/versions) and [Keras API](https://keras.io/api/). Mind that Tensorflow API changes fairly rapidly (compared to other packages/libraries). Therefore, it is good to keep track of which Tensorflow version was used for development.\n",
    "\n",
    "Generally, the latest versions of Tensorflow are able to work with data organized as Numpy arrays or Python lists (other then Tensors). However, the library provides tools to convert a variety of data formats [to tensors](https://www.tensorflow.org/api_docs/python/tf/convert_to_tensor), and Tensors have the method [.numpy()](https://www.tensorflow.org/api_docs/python/tf/Tensor) to convert Tensors to Numpy arrays.\n",
    "\n",
    "Tensorflow (as well as scikit-learn) models work with numerical inputs (inputs represent features or raw data). However, at times we might be working with textual annotation (e.g. songs metadata) which has to be converted to numbers (e.g. integers). Tensorflow provides plenty of utilities for this task (not hard to code that in Python by yourself) under the [feature_column](https://www.tensorflow.org/api_docs/python/tf/feature_column) module (for instance [this](https://www.tensorflow.org/api_docs/python/tf/feature_column/categorical_column_with_vocabulary_list) can be quite handy with metadata).\n",
    "\n",
    "Finally, [Tensorboard](https://www.tensorflow.org/tensorboard) provides handy visualization and tooling needed for machine learning experimentation, while [HParams Dashboard](https://www.tensorflow.org/tensorboard/hyperparameter_tuning_with_hparams) can help with automating hyperparameters tuning (to a certain extent, it may be preferred to use [Optuna](https://optuna.org/) as we can bring in into the search as many elements we want, including those non linked-depending on Tensorflow models).\n",
    "\n",
    "This notebook shows how to train, test and use an ANN for classification in tensorflow. We use the same dataset used in earlier Workshops. Besides performing the training/testing task, we also explore some of the additional options/parameters that Tensorflow allow us to specify/customize. Mind that often in Tensorflow documentation/tutorials authors build classess/methods on top of Tensorflo API, which is something we are not doing in this notebook."
   ]
  },
  {
   "cell_type": "markdown",
   "metadata": {},
   "source": [
    "### 1. Importing Tensorflow and Keras\n",
    "\n",
    "It is important to check the version we are using (this was written with 2.7)."
   ]
  },
  {
   "cell_type": "code",
   "execution_count": 1,
   "metadata": {},
   "outputs": [
    {
     "name": "stdout",
     "output_type": "stream",
     "text": [
      "2.7.0\n"
     ]
    }
   ],
   "source": [
    "import numpy as np\n",
    "import pandas as pd\n",
    "import librosa, librosa.display\n",
    "import matplotlib.pyplot as plt\n",
    "import matplotlib.style as ms\n",
    "ms.use('seaborn-muted')\n",
    "import IPython.display as Ipd\n",
    "import os\n",
    "import sklearn\n",
    "import scipy\n",
    "import datetime\n",
    "\n",
    "%matplotlib inline\n",
    "%config IPCompleter.greedy=True\n",
    "\n",
    "# Import TensorFlow and Keras\n",
    "import tensorflow as tf\n",
    "\n",
    "# display tensorflow version (this notwbook was developed with 2.7)\n",
    "print(tf.__version__)"
   ]
  },
  {
   "cell_type": "markdown",
   "metadata": {},
   "source": [
    "### 2. Computing features and splitting the dataset\n",
    "\n",
    "This time we store the features in an numpy array of matrices (i.e. a 3D array) ad tensorflow is able to \"flatten\" the data internally (is instructed to do so)."
   ]
  },
  {
   "cell_type": "code",
   "execution_count": 2,
   "metadata": {},
   "outputs": [
    {
     "name": "stdout",
     "output_type": "stream",
     "text": [
      "Done!\n"
     ]
    }
   ],
   "source": [
    "sr = 44100\n",
    "\n",
    "def lin_interp_2d(data, out_size):\n",
    "    \n",
    "    x_in_size = data.shape[1]\n",
    "    y_in_size = data.shape[0]\n",
    "    x_in = np.arange(0,x_in_size)\n",
    "    y_in = np.arange(0,y_in_size)\n",
    "    interpolator = scipy.interpolate.interp2d(x_in, y_in, data, kind='linear')\n",
    "    x_out = np.arange(0,x_in_size-1,((x_in_size-1)/out_size[1]))\n",
    "    y_out = np.arange(0,y_in_size-1,((y_in_size-1)/out_size[0]))\n",
    "    output = interpolator(x_out, y_out)\n",
    "    output = output[0:out_size[0],0:out_size[1]]\n",
    "    \n",
    "    return output\n",
    "\n",
    "def extract_features(filename, sr):\n",
    "    \n",
    "    signal, dummy = librosa.load(filename, sr, mono=True)\n",
    "    \n",
    "    output = librosa.feature.mfcc(signal, n_mfcc=15)\n",
    "    \n",
    "    output = lin_interp_2d(output, (15,15)) # scaling to identical lenght\n",
    "    \n",
    "    return output\n",
    "\n",
    "filenames = os.listdir('./data/examples2')\n",
    "features = np.zeros((len(filenames),15,15)) #3D Numpy array to store MFCC computed e changed if using more or less features)\n",
    "labels = np.zeros((len(filenames)))\n",
    "classes = ['kick','snare','cymbal','clap']\n",
    "\n",
    "for i in range(len(filenames)):\n",
    "    features[i] = extract_features('./data/examples2/'+filenames[i], sr) # alternative features[i,:,:]\n",
    "    if filenames[i].find('kick') != -1:\n",
    "        labels[i] = 0\n",
    "    elif filenames[i].find('snare') != -1:\n",
    "        labels[i] = 1\n",
    "    elif filenames[i].find('cymbal') != -1:\n",
    "        labels[i] = 2\n",
    "    elif filenames[i].find('clap') != -1:\n",
    "        labels[i] = 3\n",
    "\n",
    "print('Done!')"
   ]
  },
  {
   "cell_type": "code",
   "execution_count": 3,
   "metadata": {},
   "outputs": [
    {
     "data": {
      "image/png": "[encoded data removed]",
      "text/plain": [
       "<Figure size 432x288 with 2 Axes>"
      ]
     },
     "metadata": {
      "needs_background": "light"
     },
     "output_type": "display_data"
    }
   ],
   "source": [
    "# displaying the MFCC for one example (change the integer to see a different example)\n",
    "# This is a simple plotting using imshow (on the frequency axis low frequency are on top)\n",
    "\n",
    "plt.figure()\n",
    "plt.imshow(features[0]) #change \n",
    "plt.colorbar()\n",
    "plt.grid(False)\n",
    "plt.show()"
   ]
  },
  {
   "cell_type": "code",
   "execution_count": 4,
   "metadata": {},
   "outputs": [],
   "source": [
    "# for the splitting we still use scikit learn\n",
    "\n",
    "from sklearn.model_selection import train_test_split\n",
    "\n",
    "#splitting the dataset in training and testing parts\n",
    "feat_train, feat_test, lab_train, lab_test = train_test_split(features, labels, test_size=0.2)"
   ]
  },
  {
   "cell_type": "markdown",
   "metadata": {},
   "source": [
    "### 3. Defining, compiling, training and using the ANN\n",
    "\n",
    "At first we define a [sequential model](https://keras.io/api/models/sequential/) which dimensionality has to match the input and expected output. The sequential model can stack any sequence of [layers](https://keras.io/api/layers/).\n",
    "\n",
    "Then we compile the model specifying the [loss function](https://www.tensorflow.org/api_docs/python/tf/keras/losses) and [metric](https://www.tensorflow.org/api_docs/python/tf/keras/metrics) to evaluate performances.\n",
    "\n",
    "Then we fit the model, keeping track fo the history and specifying several parameters (refer to the documentation of the [fit](https://www.tensorflow.org/api_docs/python/tf/keras/Model) method.\n",
    "\n",
    "Finally we display losses, assess performance on test set, and use the trained model to make a single prediction."
   ]
  },
  {
   "cell_type": "code",
   "execution_count": 5,
   "metadata": {},
   "outputs": [
    {
     "name": "stdout",
     "output_type": "stream",
     "text": [
      "Model: \"sequential\"\n",
      "_________________________________________________________________\n",
      " Layer (type)                Output Shape              Param #   \n",
      "=================================================================\n",
      " flatten (Flatten)           (None, 225)               0         \n",
      "                                                                 \n",
      " dense (Dense)               (None, 20)                4520      \n",
      "                                                                 \n",
      " dense_1 (Dense)             (None, 5)                 105       \n",
      "                                                                 \n",
      "=================================================================\n",
      "Total params: 4,625\n",
      "Trainable params: 4,625\n",
      "Non-trainable params: 0\n",
      "_________________________________________________________________\n"
     ]
    },
    {
     "name": "stderr",
     "output_type": "stream",
     "text": [
      "2022-03-15 17:53:26.264256: I tensorflow/core/platform/cpu_feature_guard.cc:151] This TensorFlow binary is optimized with oneAPI Deep Neural Network Library (oneDNN) to use the following CPU instructions in performance-critical operations:  AVX2 FMA\n",
      "To enable them in other operations, rebuild TensorFlow with the appropriate compiler flags.\n"
     ]
    }
   ],
   "source": [
    "# building the model, the input layer must match the input data\n",
    "# for classification we need an output for each class\n",
    "\n",
    "model = tf.keras.Sequential([\n",
    "    tf.keras.layers.Flatten(input_shape=(15, 15)),\n",
    "    tf.keras.layers.Dense(20, activation='relu'),\n",
    "    tf.keras.layers.Dense(5)\n",
    "])\n",
    "\n",
    "model.summary()"
   ]
  },
  {
   "cell_type": "code",
   "execution_count": 6,
   "metadata": {},
   "outputs": [],
   "source": [
    "# setting loss function and metric\n",
    "\n",
    "model.compile(optimizer='adam',\n",
    "              loss=tf.keras.losses.SparseCategoricalCrossentropy(from_logits=True),\n",
    "              metrics=['accuracy'])"
   ]
  },
  {
   "cell_type": "code",
   "execution_count": 7,
   "metadata": {},
   "outputs": [
    {
     "name": "stdout",
     "output_type": "stream",
     "text": [
      "Epoch 1/10\n",
      "15/15 [==============================] - 1s 14ms/step - loss: 30.4992 - accuracy: 0.3445 - val_loss: 17.7552 - val_accuracy: 0.5714\n",
      "Epoch 2/10\n",
      "15/15 [==============================] - 0s 3ms/step - loss: 4.7866 - accuracy: 0.8067 - val_loss: 7.3305 - val_accuracy: 0.6429\n",
      "Epoch 3/10\n",
      "15/15 [==============================] - 0s 3ms/step - loss: 2.1930 - accuracy: 0.8319 - val_loss: 2.6573 - val_accuracy: 0.7857\n",
      "Epoch 4/10\n",
      "15/15 [==============================] - 0s 5ms/step - loss: 0.8221 - accuracy: 0.9076 - val_loss: 2.1622 - val_accuracy: 0.7857\n",
      "Epoch 5/10\n",
      "15/15 [==============================] - 0s 4ms/step - loss: 0.4583 - accuracy: 0.9328 - val_loss: 4.5855 - val_accuracy: 0.7143\n",
      "Epoch 6/10\n",
      "15/15 [==============================] - 0s 3ms/step - loss: 0.5249 - accuracy: 0.9412 - val_loss: 1.4587 - val_accuracy: 0.8571\n",
      "Epoch 7/10\n",
      "15/15 [==============================] - 0s 8ms/step - loss: 0.0933 - accuracy: 0.9832 - val_loss: 1.8378 - val_accuracy: 0.8571\n",
      "Epoch 8/10\n",
      "15/15 [==============================] - 0s 5ms/step - loss: 0.0081 - accuracy: 0.9916 - val_loss: 2.1152 - val_accuracy: 0.8571\n",
      "Epoch 9/10\n",
      "15/15 [==============================] - 0s 4ms/step - loss: 1.8127e-04 - accuracy: 1.0000 - val_loss: 2.0997 - val_accuracy: 0.8571\n",
      "Epoch 10/10\n",
      "15/15 [==============================] - 0s 3ms/step - loss: 1.3315e-04 - accuracy: 1.0000 - val_loss: 2.1092 - val_accuracy: 0.8571\n"
     ]
    }
   ],
   "source": [
    "# fitting the model and setting some parameters\n",
    "\n",
    "history = model.fit(\n",
    "    feat_train,\n",
    "    lab_train,\n",
    "    batch_size=8,\n",
    "    epochs=10,\n",
    "    validation_split = 0.1,\n",
    "    shuffle=True\n",
    ")"
   ]
  },
  {
   "cell_type": "code",
   "execution_count": 8,
   "metadata": {},
   "outputs": [
    {
     "data": {
      "image/png": "[encoded data removed]",
      "text/plain": [
       "<Figure size 432x288 with 1 Axes>"
      ]
     },
     "metadata": {
      "needs_background": "light"
     },
     "output_type": "display_data"
    }
   ],
   "source": [
    "# plotting validation and train loss\n",
    "\n",
    "plt.plot(history.history['loss'])\n",
    "plt.plot(history.history['val_loss'])\n",
    "plt.title('model accuracy')\n",
    "plt.ylabel('loss')\n",
    "plt.xlabel('epoch')\n",
    "plt.legend(['train', 'val'], loc='upper left')\n",
    "plt.show()"
   ]
  },
  {
   "cell_type": "code",
   "execution_count": 9,
   "metadata": {},
   "outputs": [
    {
     "name": "stdout",
     "output_type": "stream",
     "text": [
      "2/2 - 0s - loss: 2.4238 - accuracy: 0.8235 - 29ms/epoch - 14ms/step\n",
      "\n",
      "Test accuracy: 0.8235294222831726\n"
     ]
    }
   ],
   "source": [
    "# evaluating performance on test set\n",
    "\n",
    "test_loss, test_acc = model.evaluate(feat_test,  lab_test, verbose=2)\n",
    "\n",
    "print('\\nTest accuracy:', test_acc)"
   ]
  },
  {
   "cell_type": "code",
   "execution_count": 10,
   "metadata": {},
   "outputs": [
    {
     "name": "stdout",
     "output_type": "stream",
     "text": [
      "[[ -71.09306     65.11501    -56.722622   -25.279375   -23.033371 ]\n",
      " [ -58.92444    -76.271416   -23.687542   -39.304424   -89.27471  ]\n",
      " [ -57.225815    54.68917    -32.9258      -6.155532    -6.1491947]\n",
      " [-139.99701    -11.762744   -94.48888     -3.5997412  -37.27114  ]\n",
      " [  20.74858    -44.34593    -31.300804   -28.110664   -81.497894 ]\n",
      " [-149.12093    -49.806614   -80.89761     18.637224   -18.256922 ]\n",
      " [-162.92941     -5.036021    52.32796      6.716133   -41.708973 ]\n",
      " [ -27.36649     45.335083   -18.963345   -14.205177   -30.756115 ]\n",
      " [ -10.872841   -54.79823    -50.041485     1.0358927  -78.57124  ]\n",
      " [ -80.828186     8.069741   -81.017136    10.878793   -21.957567 ]\n",
      " [-114.16377    -59.04803     15.720052   -84.08776   -124.41421  ]\n",
      " [  -4.7566915  -21.360607   -53.793804    -1.992912   -57.091503 ]\n",
      " [ -48.8693      49.190105   -29.959625   -27.251902   -40.352085 ]\n",
      " [ -29.587917   -14.810233    -8.518132    11.692199   -21.864248 ]\n",
      " [ -60.705868    15.835059     7.4948206  -42.48422      4.7881136]\n",
      " [ -79.51134    -27.255886   -42.615063   -10.30125    -50.47311  ]\n",
      " [ -78.35216    -78.07192    -58.321518    11.625557   -48.351177 ]\n",
      " [ -41.55095     10.740575    -0.3397208  -28.927761   -64.40695  ]\n",
      " [  -0.177071   -20.634785   -35.979664   -26.85014    -71.76321  ]\n",
      " [ -64.49904     20.794392    96.16572   -122.40847   -120.73872  ]\n",
      " [-101.42017     16.544971    77.31119    -32.037987   -17.41245  ]\n",
      " [  34.0175     -58.97263    -46.228725   -22.17033    -90.51035  ]\n",
      " [  17.695885   -47.068882   -60.43624    -26.676113   -88.96537  ]\n",
      " [ -42.315903     8.439214    -6.3046217  -21.922707   -61.524364 ]\n",
      " [ -50.425034     0.4250025  -32.813274   -14.183153   -31.26761  ]\n",
      " [ -61.260193    16.46397    -37.488937    -7.993685   -28.411543 ]\n",
      " [-119.58588   -121.22155      5.0870028  -17.842121   -89.51875  ]\n",
      " [ -65.533226   -50.12105     -5.673915   -23.317682   -71.28937  ]\n",
      " [-160.7162     -70.04      -100.923256    29.225828    -8.971005 ]\n",
      " [ -55.57453      1.262616   -30.981564   -24.477158   -58.415554 ]\n",
      " [  19.071861   -27.163982   -49.60177    -30.759602   -83.45182  ]\n",
      " [ -93.04706    -95.24256    -11.700686   -79.39059   -135.96547  ]\n",
      " [ -50.6429      11.356519   -13.75125    -22.96893    -58.04046  ]\n",
      " [-169.31644     25.823689    43.807163    15.142886     8.182695 ]]\n"
     ]
    }
   ],
   "source": [
    "# predictions on the entire test set\n",
    "\n",
    "predictions = model.predict(feat_test)\n",
    "print(predictions)"
   ]
  },
  {
   "cell_type": "code",
   "execution_count": 11,
   "metadata": {},
   "outputs": [
    {
     "name": "stdout",
     "output_type": "stream",
     "text": [
      "[[-71.09306   65.11502  -56.722637 -25.279366 -23.03338 ]]\n",
      "1\n"
     ]
    }
   ],
   "source": [
    "# predictions on a single example (first we have to convert it to (0, 15, 15)  entire test set\n",
    "\n",
    "example = feat_test[0,:,:]\n",
    "\n",
    "example = (np.expand_dims(example,0))\n",
    "\n",
    "prediction = model.predict(example)\n",
    "\n",
    "print(prediction)\n",
    "print(np.argmax(prediction))"
   ]
  },
  {
   "cell_type": "code",
   "execution_count": 12,
   "metadata": {},
   "outputs": [
    {
     "name": "stdout",
     "output_type": "stream",
     "text": [
      "[[0. 1. 0. 0. 0.]]\n",
      "1\n"
     ]
    }
   ],
   "source": [
    "# adding a softmax layer for probabilistic output\n",
    "probability_model = tf.keras.Sequential([model, \n",
    "                                         tf.keras.layers.Softmax()])\n",
    "\n",
    "example = feat_test[0,:,:]\n",
    "\n",
    "example = (np.expand_dims(example,0))\n",
    "\n",
    "prediction = probability_model.predict(example)\n",
    "\n",
    "print(prediction)\n",
    "print(np.argmax(prediction))"
   ]
  },
  {
   "cell_type": "markdown",
   "metadata": {},
   "source": [
    "### 4. Follow up activities\n",
    "\n",
    "1. Use the [ModelCheckpoint](https://www.tensorflow.org/api_docs/python/tf/keras/callbacks/ModelCheckpoint) to automatically save models throughout the training process.\n",
    "\n",
    "2. Use the [EarlyStopping](https://www.tensorflow.org/api_docs/python/tf/keras/callbacks/EarlyStopping) to terminate the training based onn a condition rather than completing a given number of epochs.\n",
    "\n",
    "3. Display Tensorboard visualizations by adding the code in the cell below\n",
    "\n",
    "4. Try to change the network architecture by:\n",
    " * Accepting an input that has been already \"flattened\" (requires to change also feature generation)\n",
    " * Integrate the softax layer from the very beginning (rather than a post addition)\n",
    " * Add extra hidden layers\n",
    " * Add a [Dropout](https://www.tensorflow.org/api_docs/python/tf/keras/layers/Dropout) layer to avoid overfitting (can be handy when working on 5).\n",
    " * Add a [Normalization](https://www.tensorflow.org/api_docs/python/tf/keras/layers/Normalization) layer at the veginning of the network (can be handy since the scikit learn scaler does not work with 3D Numpy arrays)\n",
    " \n",
    "5. Following this [tutorial](https://www.tensorflow.org/tutorials/audio/simple_audio), try to run the classification working directly on rad audio (load only the first 200ms of audio, all files should be at least 200ms long). In particular, use the method [tf.audio.decode_wav](https://www.tensorflow.org/api_docs/python/tf/audio/decode_wav) to load raw audio into a tensor (you can still use librosa if you prefer).\n",
    "\n",
    "6. Experiment with your own data.\n"
   ]
  },
  {
   "cell_type": "code",
   "execution_count": null,
   "metadata": {},
   "outputs": [],
   "source": [
    "# load tensorboard (do this early in the notebook)\n",
    "%load_ext tensorboard\n",
    "\n",
    "# these must be somewhere before the fit method (also, is a good practice to clear the folder before running, using \"!rm -rf ./logs/\")\n",
    "log_dir = \"logs/fit/\" + datetime.datetime.now().strftime(\"%Y%m%d-%H%M%S\")\n",
    "tensorboard_callback = tf.keras.callbacks.TensorBoard(log_dir=log_dir, histogram_freq=1)\n",
    "\n",
    "callbacks=[tensorboard_callback] # this is a parameter for the fit method\n",
    "\n",
    "# after the model had been trained run this\n",
    "%tensorboard --logdir logs/fit"
   ]
  }
 ],
 "metadata": {
  "kernelspec": {
   "display_name": "Python 3 (ipykernel)",
   "language": "python",
   "name": "python3"
  },
  "language_info": {
   "codemirror_mode": {
    "name": "ipython",
    "version": 3
   },
   "file_extension": ".py",
   "mimetype": "text/x-python",
   "name": "python",
   "nbconvert_exporter": "python",
   "pygments_lexer": "ipython3",
   "version": "3.9.9"
  }
 },
 "nbformat": 4,
 "nbformat_minor": 4
}
