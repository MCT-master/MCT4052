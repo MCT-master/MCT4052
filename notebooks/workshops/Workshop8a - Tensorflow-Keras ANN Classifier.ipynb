{
 "cells": [
  {
   "cell_type": "markdown",
   "metadata": {},
   "source": [
    "# MCT4052 Workshop 8a: Tensorflow-Keras ANN Classifier\n",
    "\n",
    "*Author: Stefano Fasciani, stefano.fasciani@imv.uio.no, Department of Musicology, University of Oslo.*\n",
    "\n",
    "[Tensorflow](https://www.tensorflow.org/) is a library for machine learning developed by Google, which is particularly focused on deep neural networks. Compared to scikit-learn, Tensorflow present a lof of advantages, especially for the real-world ddevelopment and deployment of machine learning applications (supports variety of programming language including JavaScript for the browser, optimized and GPU-accelerated computation including support for IoT platforms, etc.) Over the years, Tenrosflow (from version 2) has also integrated [Keras](https://keras.io/), which is a sort of Python interface for Tensorflow (used to be distributed as a different package).\n",
    "\n",
    "When using Tensorflow in Python (especially if we want to remain on the easy side) we will often use sub packages that belongs to keras sub module.\n",
    "\n",
    "This and the following Tensorflow-Keras examples are adapted from the excellent collection of [Tensorflow Tutorials](https://www.tensorflow.org/tutorials). For more info refer to the [Tensorflow API](https://www.tensorflow.org/versions) and [Keras API](https://keras.io/api/). Mind that Tensorflow API changes fairly rapidly (compared to other packages/libraries). Therefore, it is good to keep track of which Tensorflow version was used for development.\n",
    "\n",
    "Generally, the latest versions of Tensorflow are able to work with data organized as Numpy arrays or Python lists (other then Tensors). However, the library provides tools to convert a variety of data formats [to tensors](https://www.tensorflow.org/api_docs/python/tf/convert_to_tensor), and Tensors have the method [.numpy()](https://www.tensorflow.org/api_docs/python/tf/Tensor) to convert Tensors to Numpy arrays.\n",
    "\n",
    "Tensorflow (as well as scikit-learn) models work with numerical inputs (inputs represent features or raw data). However, at times we might be working with textual annotation (e.g. songs metadata) which has to be converted to numbers (e.g. integers). Tensorflow provides plenty of utilities for this task (not hard to code that in Python by yourself) under the [feature_column](https://www.tensorflow.org/api_docs/python/tf/feature_column) module (for instance [this](https://www.tensorflow.org/api_docs/python/tf/feature_column/categorical_column_with_vocabulary_list) can be quite handy with metadata).\n",
    "\n",
    "Finally, [Tensorboard](https://www.tensorflow.org/tensorboard) provides handy visualization and tooling needed for machine learning experimentation, while [HParams Dashboard](https://www.tensorflow.org/tensorboard/hyperparameter_tuning_with_hparams) can help with automating hyperparameters tuning (to a certain extent, it may be preferred to use [Optuna](https://optuna.org/) as we can bring in into the search as many elements we want, including those non linked-depending on Tensorflow models).\n",
    "\n",
    "This notebook shows how to train, test and use an ANN for classification in tensorflow. We use the same dataset used in earlier Workshops. Besides performing the training/testing task, we also explore some of the additional options/parameters that Tensorflow allow us to specify/customize. Mind that often in Tensorflow documentation/tutorials authors build classess/methods on top of Tensorflo API, which is something we are not doing in this notebook."
   ]
  },
  {
   "cell_type": "markdown",
   "metadata": {},
   "source": [
    "### 1. Importing Tensorflow and Keras\n",
    "\n",
    "It is important to check the version we are using (this was written with 2.7)."
   ]
  },
  {
   "cell_type": "code",
   "execution_count": 2,
   "metadata": {},
   "outputs": [
    {
     "name": "stdout",
     "output_type": "stream",
     "text": [
      "2.10.0\n"
     ]
    }
   ],
   "source": [
    "import numpy as np\n",
    "import pandas as pd\n",
    "import librosa, librosa.display\n",
    "import matplotlib.pyplot as plt\n",
    "import matplotlib.style as ms\n",
    "ms.use(\"seaborn-v0_8\")\n",
    "import IPython.display as Ipd\n",
    "import os\n",
    "import sklearn\n",
    "import scipy\n",
    "import datetime\n",
    "\n",
    "%matplotlib inline\n",
    "%config IPCompleter.greedy=True\n",
    "\n",
    "# Import TensorFlow and Keras\n",
    "import tensorflow as tf\n",
    "\n",
    "# display tensorflow version (this notwbook was developed with 2.7)\n",
    "print(tf.__version__)"
   ]
  },
  {
   "cell_type": "markdown",
   "metadata": {},
   "source": [
    "### 2. Computing features and splitting the dataset\n",
    "\n",
    "This time we store the features in an numpy array of matrices (i.e. a 3D array) ad tensorflow is able to \"flatten\" the data internally (is instructed to do so)."
   ]
  },
  {
   "cell_type": "code",
   "execution_count": 4,
   "metadata": {},
   "outputs": [
    {
     "name": "stdout",
     "output_type": "stream",
     "text": [
      "Done!\n"
     ]
    }
   ],
   "source": [
    "sr = 44100\n",
    "\n",
    "def lin_interp_2d(data, out_size):\n",
    "    \n",
    "    x_in_size = data.shape[1]\n",
    "    y_in_size = data.shape[0]\n",
    "    x_in = np.arange(0,x_in_size)\n",
    "    y_in = np.arange(0,y_in_size)\n",
    "    interpolator = scipy.interpolate.interp2d(x_in, y_in, data, kind='linear')\n",
    "    x_out = np.arange(0,x_in_size-1,((x_in_size-1)/out_size[1]))\n",
    "    y_out = np.arange(0,y_in_size-1,((y_in_size-1)/out_size[0]))\n",
    "    output = interpolator(x_out, y_out)\n",
    "    output = output[0:out_size[0],0:out_size[1]]\n",
    "    \n",
    "    return output\n",
    "\n",
    "def extract_features(filename, sr):\n",
    "    \n",
    "    signal, dummy = librosa.load(filename, sr=sr, mono=True)\n",
    "    \n",
    "    output = librosa.feature.mfcc(y=signal, n_mfcc=15)\n",
    "    \n",
    "    output = lin_interp_2d(output, (15,15)) # scaling to identical lenght\n",
    "    \n",
    "    return output\n",
    "\n",
    "filenames = os.listdir('./data/examples2')\n",
    "features = np.zeros((len(filenames),15,15)) #3D Numpy array to store MFCC computed e changed if using more or less features)\n",
    "labels = np.zeros((len(filenames)))\n",
    "classes = ['kick','snare','cymbal','clap']\n",
    "\n",
    "for i in range(len(filenames)):\n",
    "    features[i] = extract_features('./data/examples2/'+filenames[i], sr) # alternative features[i,:,:]\n",
    "    if filenames[i].find('kick') != -1:\n",
    "        labels[i] = 0\n",
    "    elif filenames[i].find('snare') != -1:\n",
    "        labels[i] = 1\n",
    "    elif filenames[i].find('cymbal') != -1:\n",
    "        labels[i] = 2\n",
    "    elif filenames[i].find('clap') != -1:\n",
    "        labels[i] = 3\n",
    "\n",
    "print('Done!')"
   ]
  },
  {
   "cell_type": "code",
   "execution_count": 5,
   "metadata": {},
   "outputs": [
    {
     "data": {
      "image/png": "[encoded data removed]",
      "text/plain": [
       "<Figure size 800x550 with 2 Axes>"
      ]
     },
     "metadata": {},
     "output_type": "display_data"
    }
   ],
   "source": [
    "# displaying the MFCC for one example (change the integer to see a different example)\n",
    "# This is a simple plotting using imshow (on the frequency axis low frequency are on top)\n",
    "\n",
    "plt.figure()\n",
    "plt.imshow(features[0], origin='lower') #change \n",
    "plt.colorbar()\n",
    "plt.grid(False)\n",
    "plt.show()"
   ]
  },
  {
   "cell_type": "code",
   "execution_count": 6,
   "metadata": {},
   "outputs": [],
   "source": [
    "# for the splitting we still use scikit learn\n",
    "\n",
    "from sklearn.model_selection import train_test_split\n",
    "\n",
    "#splitting the dataset in training and testing parts\n",
    "feat_train, feat_test, lab_train, lab_test = train_test_split(features, labels, test_size=0.2)"
   ]
  },
  {
   "cell_type": "markdown",
   "metadata": {},
   "source": [
    "### 3. Defining, compiling, training and using the ANN\n",
    "\n",
    "At first we define a [sequential model](https://keras.io/api/models/sequential/) which dimensionality has to match the input and expected output. The sequential model can stack any sequence of [layers](https://keras.io/api/layers/).\n",
    "\n",
    "Then we compile the model specifying the [loss function](https://www.tensorflow.org/api_docs/python/tf/keras/losses) and [metric](https://www.tensorflow.org/api_docs/python/tf/keras/metrics) to evaluate performances.\n",
    "\n",
    "Then we fit the model, keeping track fo the history and specifying several parameters (refer to the documentation of the [fit](https://www.tensorflow.org/api_docs/python/tf/keras/Model) method.\n",
    "\n",
    "Finally we display losses, assess performance on test set, and use the trained model to make a single prediction."
   ]
  },
  {
   "cell_type": "code",
   "execution_count": 9,
   "metadata": {},
   "outputs": [
    {
     "name": "stdout",
     "output_type": "stream",
     "text": [
      "Model: \"sequential_1\"\n",
      "_________________________________________________________________\n",
      " Layer (type)                Output Shape              Param #   \n",
      "=================================================================\n",
      " flatten_1 (Flatten)         (None, 225)               0         \n",
      "                                                                 \n",
      " dense_2 (Dense)             (None, 20)                4520      \n",
      "                                                                 \n",
      " dense_3 (Dense)             (None, 4)                 84        \n",
      "                                                                 \n",
      "=================================================================\n",
      "Total params: 4,604\n",
      "Trainable params: 4,604\n",
      "Non-trainable params: 0\n",
      "_________________________________________________________________\n"
     ]
    }
   ],
   "source": [
    "# building the model, the input layer must match the input data\n",
    "# for classification we need an output for each class\n",
    "\n",
    "model = tf.keras.Sequential([\n",
    "    tf.keras.layers.Flatten(input_shape=(15, 15)),\n",
    "    tf.keras.layers.Dense(20, activation='relu'),\n",
    "    tf.keras.layers.Dense(4)\n",
    "])\n",
    "\n",
    "model.summary()"
   ]
  },
  {
   "cell_type": "code",
   "execution_count": 10,
   "metadata": {},
   "outputs": [],
   "source": [
    "# setting loss function and metric\n",
    "\n",
    "model.compile(optimizer='adam',\n",
    "              loss=tf.keras.losses.SparseCategoricalCrossentropy(from_logits=True),\n",
    "              metrics=['accuracy'])"
   ]
  },
  {
   "cell_type": "code",
   "execution_count": 11,
   "metadata": {},
   "outputs": [
    {
     "name": "stdout",
     "output_type": "stream",
     "text": [
      "Epoch 1/10\n"
     ]
    },
    {
     "name": "stderr",
     "output_type": "stream",
     "text": [
      "2023-03-21 21:44:00.072850: W tensorflow/core/platform/profile_utils/cpu_utils.cc:128] Failed to get CPU frequency: 0 Hz\n",
      "2023-03-21 21:44:00.285414: I tensorflow/core/grappler/optimizers/custom_graph_optimizer_registry.cc:114] Plugin optimizer for device_type GPU is enabled.\n"
     ]
    },
    {
     "name": "stdout",
     "output_type": "stream",
     "text": [
      "15/15 [==============================] - 2s 34ms/step - loss: 105.9068 - accuracy: 0.4286 - val_loss: 33.6104 - val_accuracy: 0.4286\n",
      "Epoch 2/10\n",
      "11/15 [=====================>........] - ETA: 0s - loss: 12.3792 - accuracy: 0.5455"
     ]
    },
    {
     "name": "stderr",
     "output_type": "stream",
     "text": [
      "2023-03-21 21:44:02.323153: I tensorflow/core/grappler/optimizers/custom_graph_optimizer_registry.cc:114] Plugin optimizer for device_type GPU is enabled.\n"
     ]
    },
    {
     "name": "stdout",
     "output_type": "stream",
     "text": [
      "15/15 [==============================] - 0s 7ms/step - loss: 10.8435 - accuracy: 0.5714 - val_loss: 5.9942 - val_accuracy: 0.6429\n",
      "Epoch 3/10\n",
      "15/15 [==============================] - 0s 6ms/step - loss: 3.7641 - accuracy: 0.7143 - val_loss: 2.9755 - val_accuracy: 0.7857\n",
      "Epoch 4/10\n",
      "15/15 [==============================] - 0s 7ms/step - loss: 2.3568 - accuracy: 0.8571 - val_loss: 2.6465 - val_accuracy: 0.7857\n",
      "Epoch 5/10\n",
      "15/15 [==============================] - 0s 7ms/step - loss: 1.3392 - accuracy: 0.8739 - val_loss: 2.5998 - val_accuracy: 0.7857\n",
      "Epoch 6/10\n",
      "15/15 [==============================] - 0s 7ms/step - loss: 0.9284 - accuracy: 0.9244 - val_loss: 2.5909 - val_accuracy: 0.7857\n",
      "Epoch 7/10\n",
      "15/15 [==============================] - 0s 7ms/step - loss: 0.7618 - accuracy: 0.9328 - val_loss: 3.1220 - val_accuracy: 0.7143\n",
      "Epoch 8/10\n",
      "15/15 [==============================] - 0s 7ms/step - loss: 0.5286 - accuracy: 0.9328 - val_loss: 3.6070 - val_accuracy: 0.8571\n",
      "Epoch 9/10\n",
      "15/15 [==============================] - 0s 7ms/step - loss: 0.3653 - accuracy: 0.9580 - val_loss: 3.3656 - val_accuracy: 0.7143\n",
      "Epoch 10/10\n",
      "15/15 [==============================] - 0s 7ms/step - loss: 0.3507 - accuracy: 0.9496 - val_loss: 3.5570 - val_accuracy: 0.7143\n"
     ]
    }
   ],
   "source": [
    "# fitting the model and setting some parameters\n",
    "\n",
    "history = model.fit(\n",
    "    feat_train,\n",
    "    lab_train,\n",
    "    batch_size=8,\n",
    "    epochs=10,\n",
    "    validation_split = 0.1,\n",
    "    shuffle=True\n",
    ")"
   ]
  },
  {
   "cell_type": "code",
   "execution_count": 12,
   "metadata": {},
   "outputs": [
    {
     "data": {
      "image/png": "[encoded data removed]",
      "text/plain": [
       "<Figure size 800x550 with 1 Axes>"
      ]
     },
     "metadata": {},
     "output_type": "display_data"
    }
   ],
   "source": [
    "# plotting validation and train loss\n",
    "\n",
    "plt.plot(history.history['loss'])\n",
    "plt.plot(history.history['val_loss'])\n",
    "plt.title('model accuracy')\n",
    "plt.ylabel('loss')\n",
    "plt.xlabel('epoch')\n",
    "plt.legend(['train', 'val'], loc='upper left')\n",
    "plt.show()"
   ]
  },
  {
   "cell_type": "code",
   "execution_count": 13,
   "metadata": {},
   "outputs": [
    {
     "name": "stdout",
     "output_type": "stream",
     "text": [
      "2/2 - 0s - loss: 2.1611 - accuracy: 0.8235 - 250ms/epoch - 125ms/step\n",
      "\n",
      "Test accuracy: 0.8235294222831726\n"
     ]
    }
   ],
   "source": [
    "# evaluating performance on test set\n",
    "\n",
    "test_loss, test_acc = model.evaluate(feat_test,  lab_test, verbose=2)\n",
    "\n",
    "print('\\nTest accuracy:', test_acc)"
   ]
  },
  {
   "cell_type": "code",
   "execution_count": 14,
   "metadata": {},
   "outputs": [
    {
     "name": "stdout",
     "output_type": "stream",
     "text": [
      "2/2 [==============================] - 0s 6ms/step\n",
      "[[-4.02484512e+01  3.74935989e+01  1.10025986e+02  1.06769012e+02]\n",
      " [ 2.87502432e+00  3.29016685e+00  2.55091858e+01  4.05869942e+01]\n",
      " [ 2.71309452e+01  8.05459023e+00  8.77456093e+00  1.65923729e+01]\n",
      " [-3.90879898e+01 -2.30639839e+00  1.23899429e+02  1.02807648e+02]\n",
      " [-2.60017681e+01  9.91499252e+01  6.69735794e+01  8.60823669e+01]\n",
      " [-3.06774578e+01  1.50967979e+00  1.12607536e+02  7.54231033e+01]\n",
      " [-9.82732868e+00  2.99949512e+01  1.58994617e+01  2.20201740e+01]\n",
      " [-2.54599590e+01  5.97946739e+00  9.59209824e+01  7.14474258e+01]\n",
      " [ 1.77715838e+00  2.50625343e+01  7.02048779e+00  2.93041458e+01]\n",
      " [-5.56167459e+00 -4.85364189e+01  3.14165535e+01 -1.08358532e-01]\n",
      " [ 8.02457452e-01  2.53656120e+01  1.19457893e+01  3.28497581e+01]\n",
      " [-5.61048813e+01  1.14496849e+02  2.99864368e+01  7.64531250e+01]\n",
      " [-2.64519787e+01  1.52613506e+01  8.66107712e+01  7.70022964e+01]\n",
      " [ 2.48187885e+01 -5.26883278e+01  8.68304634e+00 -1.49793065e+00]\n",
      " [ 4.83748512e+01 -3.68839874e+01 -6.61737108e+00 -1.11387978e+01]\n",
      " [-4.13217049e+01  7.97684326e+01  2.37456894e+01  5.42516975e+01]\n",
      " [ 8.25601220e-01 -3.57428932e+00  8.01258240e+01  5.71069641e+01]\n",
      " [ 3.69784203e+01 -2.81131802e+01 -3.65662217e+00 -3.81982255e+00]\n",
      " [-8.44878082e+01 -1.59714565e+01  1.24533775e+02  1.17186974e+02]\n",
      " [-2.46476345e+01  1.40079632e+01  5.42176590e+01  5.35115166e+01]\n",
      " [-3.25194550e+01  8.55127335e+01  2.70454693e+01  4.64980164e+01]\n",
      " [-2.36243382e+01  5.17307053e+01  2.84334126e+01  5.70236664e+01]\n",
      " [-2.89429836e+01  6.62522812e+01  3.69272079e+01  4.88755913e+01]\n",
      " [ 5.49089508e+01 -3.62362862e+01 -1.93248987e-01 -6.79695511e+00]\n",
      " [-6.43240976e+00  4.66504898e+01  1.95090942e+01  4.59155731e+01]\n",
      " [-8.53292465e+01  6.51384811e+01  1.40485779e+02  1.38380402e+02]\n",
      " [-1.84341679e+01  4.01218452e+01  9.46975937e+01  9.08999329e+01]\n",
      " [-3.09325809e+01  6.07356110e+01  1.75061455e+01  2.32955265e+01]\n",
      " [-1.43111124e+01  1.74180145e+01 -1.78399506e+01 -1.56123886e+01]\n",
      " [-6.99479675e+01  2.54336300e+01  1.13921501e+02  1.00344437e+02]\n",
      " [-6.29423761e+00  5.15223770e+01  2.33471336e+01  4.41512909e+01]\n",
      " [ 2.97936687e+01 -1.09886913e+01 -5.73189020e-01  5.19104004e+00]\n",
      " [ 1.84652958e+01 -1.77666645e+01  9.90495300e+00  2.53666916e+01]\n",
      " [-4.72123718e+01  1.16182079e+01  1.77105618e+01  2.54024277e+01]]\n"
     ]
    },
    {
     "name": "stderr",
     "output_type": "stream",
     "text": [
      "2023-03-21 21:44:11.572731: I tensorflow/core/grappler/optimizers/custom_graph_optimizer_registry.cc:114] Plugin optimizer for device_type GPU is enabled.\n"
     ]
    }
   ],
   "source": [
    "# predictions on the entire test set\n",
    "\n",
    "predictions = model.predict(feat_test)\n",
    "print(predictions)"
   ]
  },
  {
   "cell_type": "code",
   "execution_count": 15,
   "metadata": {},
   "outputs": [
    {
     "name": "stdout",
     "output_type": "stream",
     "text": [
      "1/1 [==============================] - 0s 127ms/step\n",
      "[[-40.248383  37.49353  110.02591  106.76895 ]]\n",
      "2\n"
     ]
    }
   ],
   "source": [
    "# predictions on a single example (first we have to convert it to (0, 15, 15)  entire test set\n",
    "\n",
    "example = feat_test[0,:,:]\n",
    "\n",
    "example = (np.expand_dims(example,0))\n",
    "\n",
    "prediction = model.predict(example)\n",
    "\n",
    "print(prediction)\n",
    "print(np.argmax(prediction))"
   ]
  },
  {
   "cell_type": "code",
   "execution_count": 16,
   "metadata": {},
   "outputs": [
    {
     "name": "stdout",
     "output_type": "stream",
     "text": [
      "1/1 [==============================] - 0s 35ms/step\n",
      "[[0.0000000e+00 3.0421374e-32 9.6292239e-01 3.7077662e-02]]\n",
      "2\n"
     ]
    },
    {
     "name": "stderr",
     "output_type": "stream",
     "text": [
      "2023-03-21 21:44:14.015002: I tensorflow/core/grappler/optimizers/custom_graph_optimizer_registry.cc:114] Plugin optimizer for device_type GPU is enabled.\n"
     ]
    }
   ],
   "source": [
    "# adding a softmax layer for probabilistic output\n",
    "probability_model = tf.keras.Sequential([model, \n",
    "                                         tf.keras.layers.Softmax()])\n",
    "\n",
    "example = feat_test[0,:,:]\n",
    "\n",
    "example = (np.expand_dims(example,0))\n",
    "\n",
    "prediction = probability_model.predict(example)\n",
    "\n",
    "print(prediction)\n",
    "print(np.argmax(prediction))"
   ]
  },
  {
   "cell_type": "markdown",
   "metadata": {},
   "source": [
    "### 4. Follow up activities\n",
    "\n",
    "1. Use the [ModelCheckpoint](https://www.tensorflow.org/api_docs/python/tf/keras/callbacks/ModelCheckpoint) to automatically save models throughout the training process.\n",
    "\n",
    "2. Use the [EarlyStopping](https://www.tensorflow.org/api_docs/python/tf/keras/callbacks/EarlyStopping) to terminate the training based onn a condition rather than completing a given number of epochs.\n",
    "\n",
    "3. Display Tensorboard visualizations by adding the code in the cell below\n",
    "\n",
    "4. Try to change the network architecture by:\n",
    " * Accepting an input that has been already \"flattened\" (requires to change also feature generation)\n",
    " * Integrate the softax layer from the very beginning (rather than a post addition)\n",
    " * Add extra hidden layers\n",
    " * Add a [Dropout](https://www.tensorflow.org/api_docs/python/tf/keras/layers/Dropout) layer to avoid overfitting (can be handy when working on 5).\n",
    " * Add a [Normalization](https://www.tensorflow.org/api_docs/python/tf/keras/layers/Normalization) layer at the beginning of the network (can be handy since the scikit learn scaler does not work with 3D Numpy arrays)\n",
    " \n",
    "5. Following this [tutorial](https://www.tensorflow.org/tutorials/audio/simple_audio), try to run the classification working directly on rad audio (load only the first 200ms of audio, all files should be at least 200ms long). In particular, use the method [tf.audio.decode_wav](https://www.tensorflow.org/api_docs/python/tf/audio/decode_wav) to load raw audio into a tensor (you can still use librosa if you prefer).\n",
    "\n",
    "6. Experiment with your own data.\n"
   ]
  },
  {
   "cell_type": "code",
   "execution_count": 17,
   "metadata": {},
   "outputs": [
    {
     "data": {
      "text/html": [
       "\n",
       "      <iframe id=\"tensorboard-frame-c34ce291b5a507bf\" width=\"100%\" height=\"800\" frameborder=\"0\">\n",
       "      </iframe>\n",
       "      <script>\n",
       "        (function() {\n",
       "          const frame = document.getElementById(\"tensorboard-frame-c34ce291b5a507bf\");\n",
       "          const url = new URL(\"/\", window.location);\n",
       "          const port = 6006;\n",
       "          if (port) {\n",
       "            url.port = port;\n",
       "          }\n",
       "          frame.src = url;\n",
       "        })();\n",
       "      </script>\n",
       "    "
      ],
      "text/plain": [
       "<IPython.core.display.HTML object>"
      ]
     },
     "metadata": {},
     "output_type": "display_data"
    }
   ],
   "source": [
    "# load tensorboard (do this early in the notebook)\n",
    "%load_ext tensorboard\n",
    "\n",
    "# these must be somewhere before the fit method (also, is a good practice to clear the folder before running, using \"!rm -rf ./logs/\")\n",
    "log_dir = \"logs/fit/\" + datetime.datetime.now().strftime(\"%Y%m%d-%H%M%S\")\n",
    "tensorboard_callback = tf.keras.callbacks.TensorBoard(log_dir=log_dir, histogram_freq=1)\n",
    "\n",
    "callbacks=[tensorboard_callback] # this is a parameter for the fit method\n",
    "\n",
    "# after the model had been trained run this\n",
    "%tensorboard --logdir logs/fit"
   ]
  },
  {
   "cell_type": "code",
   "execution_count": null,
   "metadata": {},
   "outputs": [],
   "source": []
  }
 ],
 "metadata": {
  "kernelspec": {
   "display_name": "Python 3 (ipykernel)",
   "language": "python",
   "name": "python3"
  },
  "language_info": {
   "codemirror_mode": {
    "name": "ipython",
    "version": 3
   },
   "file_extension": ".py",
   "mimetype": "text/x-python",
   "name": "python",
   "nbconvert_exporter": "python",
   "pygments_lexer": "ipython3",
   "version": "3.9.13"
  }
 },
 "nbformat": 4,
 "nbformat_minor": 4
}
