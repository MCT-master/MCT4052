{
 "cells": [
  {
   "cell_type": "code",
   "execution_count": 1,
   "id": "b7918049",
   "metadata": {},
   "outputs": [],
   "source": [
    "import numpy as np\n",
    "import scipy\n",
    "import librosa, librosa.display\n",
    "import matplotlib.pyplot as plt\n",
    "import sklearn\n",
    "\n",
    "%matplotlib nbagg\n",
    "%config IPCompleter.greedy=True"
   ]
  },
  {
   "cell_type": "code",
   "execution_count": 2,
   "id": "b6bbbadb",
   "metadata": {},
   "outputs": [],
   "source": [
    "#importing the preprocessing module of scikit-learn\n",
    "from sklearn import preprocessing\n",
    "\n"
   ]
  },
  {
   "cell_type": "code",
   "execution_count": 7,
   "id": "d14f3c7c",
   "metadata": {},
   "outputs": [],
   "source": [
    "# loading a file, computing three different scalar features and packing these in a single array\n",
    "sr = 22050\n",
    "file = './data/examples1/kick.wav'\n",
    "signal, sr = librosa.load(file, sr=sr, mono=True)\n",
    "rms = librosa.feature.rms(y=signal)\n",
    "cent = librosa.feature.spectral_centroid(y=signal)\n",
    "\n"
   ]
  },
  {
   "cell_type": "code",
   "execution_count": 8,
   "id": "bf9a4c50",
   "metadata": {},
   "outputs": [
    {
     "data": {
      "text/plain": [
       "(1, 21)"
      ]
     },
     "execution_count": 8,
     "metadata": {},
     "output_type": "execute_result"
    }
   ],
   "source": [
    "rms.shape"
   ]
  },
  {
   "cell_type": "code",
   "execution_count": 9,
   "id": "095984a5",
   "metadata": {},
   "outputs": [],
   "source": [
    "# normalizing the rms and cent arrays to equalize their ranges the different ranges\n",
    "rms_norm = sklearn.preprocessing.normalize(rms)\n",
    "cent_norm = sklearn.preprocessing.normalize(cent)\n",
    "\n"
   ]
  },
  {
   "cell_type": "code",
   "execution_count": 13,
   "id": "18db03ea",
   "metadata": {},
   "outputs": [
    {
     "name": "stdout",
     "output_type": "stream",
     "text": [
      "0.00011021208 7.6743636e-05\n"
     ]
    }
   ],
   "source": [
    "print(np.amin(rms), np.amin(rms_norm))"
   ]
  },
  {
   "cell_type": "code",
   "execution_count": null,
   "id": "7d447c37",
   "metadata": {},
   "outputs": [],
   "source": [
    "0.00007...."
   ]
  }
 ],
 "metadata": {
  "kernelspec": {
   "display_name": "Python 3 (ipykernel)",
   "language": "python",
   "name": "python3"
  },
  "language_info": {
   "codemirror_mode": {
    "name": "ipython",
    "version": 3
   },
   "file_extension": ".py",
   "mimetype": "text/x-python",
   "name": "python",
   "nbconvert_exporter": "python",
   "pygments_lexer": "ipython3",
   "version": "3.9.13"
  }
 },
 "nbformat": 4,
 "nbformat_minor": 5
}
