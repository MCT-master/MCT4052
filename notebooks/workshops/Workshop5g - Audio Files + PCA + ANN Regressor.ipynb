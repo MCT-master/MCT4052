{
 "cells": [
  {
   "cell_type": "markdown",
   "metadata": {},
   "source": [
    "# MCT4052 Workshop 5g: Audio Files + PCA + ANN Regressor\n",
    "\n",
    "*Author: Stefano Fasciani, stefano.fasciani@imv.uio.no, Department of Musicology, University of Oslo.*\n",
    "\n",
    "The notebooks Workshop 5b to 5h integrates a stage of dimensionality reduction with different type of machine learning technique (classification, regression, clustering) on audio or MIDI data. The machine learning techniques included in this set of examples are those from previous workshops."
   ]
  },
  {
   "cell_type": "code",
   "execution_count": 1,
   "metadata": {},
   "outputs": [],
   "source": [
    "import numpy as np\n",
    "import pandas as pd\n",
    "import scipy\n",
    "import librosa, librosa.display\n",
    "import matplotlib.pyplot as plt\n",
    "import matplotlib.style as ms\n",
    "ms.use('seaborn-muted')\n",
    "import IPython.display as Ipd\n",
    "import os\n",
    "import sklearn\n",
    "\n",
    "%matplotlib inline\n",
    "%config IPCompleter.greedy=True"
   ]
  },
  {
   "cell_type": "code",
   "execution_count": 2,
   "metadata": {},
   "outputs": [
    {
     "name": "stdout",
     "output_type": "stream",
     "text": [
      "Done!\n"
     ]
    }
   ],
   "source": [
    "sr = 22050\n",
    "\n",
    "def extract_features_targets(filename, sr):\n",
    "    \n",
    "    signal, dummy = librosa.load(filename, sr, mono=True)\n",
    "    \n",
    "    features = librosa.feature.melspectrogram(signal, n_mels=15)\n",
    "    features = features.flatten()\n",
    "    \n",
    "    targets = np.zeros((1,2))\n",
    "    targets[0,0] = np.mean(librosa.feature.rms(signal))\n",
    "    targets[0,1] = np.mean(librosa.feature.spectral_bandwidth(signal))\n",
    "    \n",
    "    return features, targets\n",
    "\n",
    "\n",
    "filenames = os.listdir('./data/examples3')\n",
    "num_of_features = extract_features_targets('./data/examples3/'+filenames[0], sr)[0].size\n",
    "num_of_targets = extract_features_targets('./data/examples3/'+filenames[0], sr)[1].size\n",
    "features = np.zeros((len(filenames),num_of_features)) \n",
    "targets = np.zeros((len(filenames),num_of_targets))\n",
    "\n",
    "for i in range(len(filenames)):\n",
    "    features[i,:], targets[i,:] = extract_features_targets('./data/examples3/'+filenames[i], sr)\n",
    "\n",
    "print('Done!')"
   ]
  },
  {
   "cell_type": "code",
   "execution_count": 3,
   "metadata": {},
   "outputs": [],
   "source": [
    "from sklearn.model_selection import train_test_split\n",
    "\n",
    "#splitting the dataset in training and testing parts\n",
    "feat_train, feat_test, tar_train, tar_test = train_test_split(features, targets, test_size=0.2, random_state=17)"
   ]
  },
  {
   "cell_type": "code",
   "execution_count": 4,
   "metadata": {},
   "outputs": [],
   "source": [
    "#learning the scaling transformation from the train data and applying it to both train and test set.\n",
    "\n",
    "#creating scaling object\n",
    "scaler = sklearn.preprocessing.StandardScaler()\n",
    "\n",
    "#learning scaling from train set\n",
    "scaler.fit(feat_train)\n",
    "\n",
    "#applying scaling to both train and test set\n",
    "feat_train = scaler.transform(feat_train)\n",
    "feat_test = scaler.transform(feat_test)"
   ]
  },
  {
   "cell_type": "code",
   "execution_count": 5,
   "metadata": {},
   "outputs": [],
   "source": [
    "#Creating an instance of a PCA object, which is an object capable of learning and applying PCA from/to data.\n",
    "#We instruct the PCA to keep only N components\n",
    "pca = sklearn.decomposition.PCA(n_components=20)\n",
    "\n",
    "#This will learn PCA projection from train data\n",
    "pca.fit(feat_train)\n",
    "\n",
    "#Now we project the data\n",
    "projected_features_train = pca.transform(feat_train)\n",
    "projected_features_test = pca.transform(feat_test)\n",
    "\n",
    "#this is only for scatter plot purposes\n",
    "projected_features = pca.transform(scaler.transform(features))"
   ]
  },
  {
   "cell_type": "code",
   "execution_count": 6,
   "metadata": {},
   "outputs": [
    {
     "name": "stdout",
     "output_type": "stream",
     "text": [
      "12\n",
      "(72, 20)\n",
      "(18, 20)\n",
      "(72, 12)\n",
      "(18, 12)\n"
     ]
    }
   ],
   "source": [
    "# keeping a lower number of dimensions\n",
    "num_of_dim80 = np.min(np.where(np.cumsum(pca.explained_variance_ratio_)>0.80)) + 1\n",
    "\n",
    "print(num_of_dim80)\n",
    "\n",
    "# dimension before\n",
    "print(projected_features_train.shape)\n",
    "print(projected_features_test.shape)\n",
    "\n",
    "# keeping only a number of components (columns, or features) carryinng 80% of total variance\n",
    "projected_features_train = projected_features_train[:,0:num_of_dim80]\n",
    "projected_features_test = projected_features_test[:,0:num_of_dim80]\n",
    "\n",
    "\n",
    "# dimension after\n",
    "print(projected_features_train.shape)\n",
    "print(projected_features_test.shape)"
   ]
  },
  {
   "cell_type": "code",
   "execution_count": 7,
   "metadata": {},
   "outputs": [],
   "source": [
    "#Import the classifier\n",
    "from sklearn.neural_network import MLPRegressor\n",
    "\n",
    "##Creating an instance of a MLP regressor\n",
    "#and setting it some option (max mum epoch, verbose on, activation of neurons)\n",
    "mlp = MLPRegressor(hidden_layer_sizes=(15,10,5), max_iter=500000, activation='tanh', verbose=False)\n",
    "\n",
    "#train the model\n",
    "mlp.fit(projected_features_train, tar_train)\n",
    "\n",
    "#applying the the model on the test data (features)\n",
    "tar_pred = mlp.predict(projected_features_test)"
   ]
  },
  {
   "cell_type": "code",
   "execution_count": 8,
   "metadata": {},
   "outputs": [
    {
     "data": {
      "image/png": "[encoded data removed]",
      "text/plain": [
       "<Figure size 432x288 with 1 Axes>"
      ]
     },
     "metadata": {
      "needs_background": "light"
     },
     "output_type": "display_data"
    },
    {
     "name": "stdout",
     "output_type": "stream",
     "text": [
      "Mean squared error: 96443.1949\n",
      "Mean absolute error: 204.6678\n",
      "Median absolute error: 202.3367\n",
      "Coefficient of determination (R2 score): -0.0526\n",
      "Explained variance score: -0.0000\n",
      "R2 score on individual targets [-0.01842589 -0.08682271]\n"
     ]
    }
   ],
   "source": [
    "#plotting the loss curve over training iteration \n",
    "plt.plot(mlp.loss_curve_)\n",
    "plt.xlabel('iteration')\n",
    "plt.xlabel('loss')\n",
    "plt.show()\n",
    "\n",
    "#computing a set of performance metrics\n",
    "\n",
    "#mean squared error (lower the better)\n",
    "print('Mean squared error: %.4f'% sklearn.metrics.mean_squared_error(tar_test, tar_pred))\n",
    "\n",
    "#mean absolute error (lower the better)\n",
    "print('Mean absolute error: %.4f'% sklearn.metrics.mean_absolute_error(tar_test, tar_pred))\n",
    "\n",
    "#median absolute error (lower the better)\n",
    "print('Median absolute error: %.4f'% sklearn.metrics.median_absolute_error(tar_test, tar_pred))\n",
    "\n",
    "#coefficient of determination (r2 score): 1 is perfect prediction (it can get arbitrary negative)\n",
    "print('Coefficient of determination (R2 score): %.4f'% sklearn.metrics.r2_score(tar_test, tar_pred))\n",
    "\n",
    "#explained variance score: 1 is perfect prediction (it can get arbitrary worse)\n",
    "print('Explained variance score: %.4f'% sklearn.metrics.explained_variance_score(tar_test, tar_pred))\n",
    "\n",
    "#this is is a better represenation of the r2 score when working with multiple outputs\n",
    "#as it provides a value for each target value\n",
    "print('R2 score on individual targets',sklearn.metrics.r2_score(tar_test, tar_pred, multioutput='raw_values') )"
   ]
  },
  {
   "cell_type": "code",
   "execution_count": null,
   "metadata": {},
   "outputs": [],
   "source": []
  }
 ],
 "metadata": {
  "kernelspec": {
   "display_name": "Python 3 (ipykernel)",
   "language": "python",
   "name": "python3"
  },
  "language_info": {
   "codemirror_mode": {
    "name": "ipython",
    "version": 3
   },
   "file_extension": ".py",
   "mimetype": "text/x-python",
   "name": "python",
   "nbconvert_exporter": "python",
   "pygments_lexer": "ipython3",
   "version": "3.9.9"
  }
 },
 "nbformat": 4,
 "nbformat_minor": 4
}
