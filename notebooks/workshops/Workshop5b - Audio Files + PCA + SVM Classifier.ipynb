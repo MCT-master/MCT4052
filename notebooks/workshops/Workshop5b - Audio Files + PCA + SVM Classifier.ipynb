{
 "cells": [
  {
   "cell_type": "markdown",
   "metadata": {},
   "source": [
    "# MCT4052 Workshop 5b: Audio Files + PCA + SVM Classifier\n",
    "\n",
    "*Author: Stefano Fasciani, stefano.fasciani@imv.uio.no, Department of Musicology, University of Oslo.*\n",
    "\n",
    "The notebooks Workshop 5b to 5h integrates a stage of dimensionality reduction with different type of machine learning technique (classification, regression, clustering) on audio or MIDI data. The machine learning techniques included in this set of examples are those from previous workshops."
   ]
  },
  {
   "cell_type": "code",
   "execution_count": 1,
   "metadata": {},
   "outputs": [],
   "source": [
    "import numpy as np\n",
    "import pandas as pd\n",
    "import scipy\n",
    "import librosa, librosa.display\n",
    "import matplotlib.pyplot as plt\n",
    "import matplotlib.style as ms\n",
    "ms.use('seaborn-muted')\n",
    "import IPython.display as Ipd\n",
    "import os\n",
    "import sklearn\n",
    "\n",
    "%matplotlib inline\n",
    "%config IPCompleter.greedy=True"
   ]
  },
  {
   "cell_type": "code",
   "execution_count": 2,
   "metadata": {},
   "outputs": [],
   "source": [
    "#loading the metadata in a pandas data structure and displaying\n",
    "metadata = pd.read_csv('./data/examples4/meta.csv')"
   ]
  },
  {
   "cell_type": "code",
   "execution_count": 3,
   "metadata": {},
   "outputs": [
    {
     "name": "stdout",
     "output_type": "stream",
     "text": [
      "There are 5 different classes: ['cello', 'guitar', 'clarinet', 'flute', 'harmonica']\n"
     ]
    }
   ],
   "source": [
    "#finding unique labels (i.e. how many different classes in the dataset)\n",
    "classes = list(metadata.label.unique()) # finding unique elements in the 'label' column\n",
    "print('There are',len(classes),'different classes:',classes)"
   ]
  },
  {
   "cell_type": "code",
   "execution_count": 4,
   "metadata": {},
   "outputs": [
    {
     "name": "stdout",
     "output_type": "stream",
     "text": [
      "Done!\n"
     ]
    }
   ],
   "source": [
    "sr = 22050\n",
    "\n",
    "def extract_features(filename, sr):\n",
    "    \n",
    "    signal, dummy = librosa.load(filename, sr, mono=True)\n",
    "    \n",
    "    output = [\n",
    "        np.mean(librosa.feature.zero_crossing_rate(signal)),\n",
    "        np.mean(librosa.feature.spectral_centroid(signal)),\n",
    "        np.mean(librosa.feature.spectral_contrast(signal)), \n",
    "        np.mean(librosa.feature.spectral_flatness(signal)),\n",
    "        np.mean(librosa.feature.spectral_bandwidth(signal)),\n",
    "        np.mean(librosa.feature.spectral_rolloff(signal)),\n",
    "        np.mean(librosa.feature.rms(signal))\n",
    "    ]\n",
    "    \n",
    "    return output\n",
    "\n",
    "\n",
    "num_of_features = len(extract_features('./data/examples4/'+metadata['filename'][0], sr))\n",
    "features = np.zeros((len(metadata.index),num_of_features)) \n",
    "labels = np.zeros((len(metadata.index))) \n",
    "filenames = []\n",
    "\n",
    "for i, row in metadata.iterrows():\n",
    "    features[i,:] = extract_features('./data/examples4/'+row['filename'], sr)\n",
    "    filenames.append('./data/examples4/'+row['filename'])\n",
    "    labels[i] = (classes.index(row['label']))\n",
    "\n",
    "print('Done!')"
   ]
  },
  {
   "cell_type": "code",
   "execution_count": 5,
   "metadata": {},
   "outputs": [],
   "source": [
    "#this step converts the labels from a numpy array to \n",
    "#a Pandas series, which allows backtracing misclassified examples\n",
    "#scikitlearn can handle features or labels also as Pandas formats\n",
    "labels = pd.Series(labels)"
   ]
  },
  {
   "cell_type": "code",
   "execution_count": 6,
   "metadata": {},
   "outputs": [],
   "source": [
    "from sklearn.model_selection import train_test_split\n",
    "\n",
    "#splitting the dataset in training and testing parts\n",
    "feat_train, feat_test, lab_train, lab_test = train_test_split(features, labels, test_size=0.2, random_state=77)"
   ]
  },
  {
   "cell_type": "code",
   "execution_count": 7,
   "metadata": {},
   "outputs": [],
   "source": [
    "#learning the scaling transformation from the train data and applying it to both train and test set.\n",
    "\n",
    "#creating scaling object\n",
    "scaler = sklearn.preprocessing.StandardScaler()\n",
    "\n",
    "#learning scaling from train set\n",
    "scaler.fit(feat_train)\n",
    "\n",
    "#applying scaling to both train and test set\n",
    "feat_train = scaler.transform(feat_train)\n",
    "feat_test = scaler.transform(feat_test)"
   ]
  },
  {
   "cell_type": "code",
   "execution_count": 8,
   "metadata": {},
   "outputs": [
    {
     "data": {
      "image/png": "[encoded data removed]",
      "text/plain": [
       "<Figure size 576x576 with 1 Axes>"
      ]
     },
     "metadata": {},
     "output_type": "display_data"
    }
   ],
   "source": [
    "#Creating an instance of a PCA object, which is an object capable of learning and applying PCA from/to data.\n",
    "#We instruct the PCA to keep only N components\n",
    "pca = sklearn.decomposition.PCA()\n",
    "\n",
    "#This will learn PCA projection from train data\n",
    "pca.fit(feat_train)\n",
    "\n",
    "#Now we project the data\n",
    "projected_features_train = pca.transform(feat_train)\n",
    "projected_features_test = pca.transform(feat_test)\n",
    "\n",
    "#this is only for scatter plot purposes\n",
    "projected_features = pca.transform(scaler.transform(features))\n",
    "\n",
    "#Plot the distribution of the data according to the first two principle components\n",
    "with plt.style.context('seaborn-whitegrid'):\n",
    "    plt.figure(figsize=(8, 8))\n",
    "    for lab_val, lab_name in zip(range(0,len(classes)),classes):\n",
    "        plt.scatter(projected_features[labels==lab_val, 0],\n",
    "                    projected_features[labels==lab_val, 1],\n",
    "                    label=lab_name)\n",
    "    plt.xlabel('1st PCA Component')\n",
    "    plt.ylabel('2nd PCA Component')\n",
    "    plt.legend(loc='lower center')\n",
    "    plt.tight_layout()\n",
    "    plt.show()"
   ]
  },
  {
   "cell_type": "code",
   "execution_count": 9,
   "metadata": {},
   "outputs": [
    {
     "name": "stdout",
     "output_type": "stream",
     "text": [
      "4\n",
      "(48, 7)\n",
      "(12, 7)\n",
      "(48, 4)\n",
      "(12, 4)\n"
     ]
    }
   ],
   "source": [
    "# keeping a lower number of dimensions\n",
    "num_of_dim95 = np.min(np.where(np.cumsum(pca.explained_variance_ratio_)>0.95)) + 1\n",
    "\n",
    "print(num_of_dim95)\n",
    "\n",
    "# dimension before\n",
    "print(projected_features_train.shape)\n",
    "print(projected_features_test.shape)\n",
    "\n",
    "# keeping only a number of components (columns, or features) carryinng 95% of total variance\n",
    "projected_features_train = projected_features_train[:,0:num_of_dim95]\n",
    "projected_features_test = projected_features_test[:,0:num_of_dim95]\n",
    "\n",
    "\n",
    "# dimension after\n",
    "print(projected_features_train.shape)\n",
    "print(projected_features_test.shape)"
   ]
  },
  {
   "cell_type": "code",
   "execution_count": 10,
   "metadata": {},
   "outputs": [
    {
     "name": "stdout",
     "output_type": "stream",
     "text": [
      "Number of mislabeled samples 3 out of 12\n",
      "Accuracy: 0.75\n",
      "              precision    recall  f1-score   support\n",
      "\n",
      "         0.0       0.33      1.00      0.50         1\n",
      "         1.0       0.00      0.00      0.00         1\n",
      "         2.0       1.00      0.67      0.80         3\n",
      "         3.0       1.00      0.75      0.86         4\n",
      "         4.0       1.00      1.00      1.00         3\n",
      "\n",
      "    accuracy                           0.75        12\n",
      "   macro avg       0.67      0.68      0.63        12\n",
      "weighted avg       0.86      0.75      0.78        12\n",
      "\n",
      "[[1 0 0 0 0]\n",
      " [1 0 0 0 0]\n",
      " [1 0 2 0 0]\n",
      " [0 1 0 3 0]\n",
      " [0 0 0 0 3]]\n"
     ]
    }
   ],
   "source": [
    "#Creating an instance of a SVN classifier\n",
    "#and setting it to use a linear kernel\n",
    "model_SVN = sklearn.svm.SVC(kernel='linear', C=1.0)\n",
    "\n",
    "#training the model\n",
    "model_SVN.fit(projected_features_train, lab_train)\n",
    "\n",
    "#applying the the model on the test data\n",
    "lab_predict = model_SVN.predict(projected_features_test)\n",
    "\n",
    "\n",
    "#print the number of misclassified samples, accuracy, complete report, and confusion matrix\n",
    "print('Number of mislabeled samples %d out of %d' % ((lab_test != lab_predict).sum(),lab_test.size))\n",
    "print('Accuracy:',sklearn.metrics.accuracy_score(lab_test, lab_predict))\n",
    "print(sklearn.metrics.classification_report(lab_test, lab_predict))\n",
    "print(sklearn.metrics.confusion_matrix(lab_test, lab_predict))"
   ]
  },
  {
   "cell_type": "code",
   "execution_count": 11,
   "metadata": {},
   "outputs": [
    {
     "name": "stdout",
     "output_type": "stream",
     "text": [
      "./data/examples4/c08227e9.wav\n",
      "./data/examples4/74cfa1eb.wav\n",
      "./data/examples4/75916a91.wav\n"
     ]
    }
   ],
   "source": [
    "#displaying names of misclassified files\n",
    "results = lab_test == lab_predict\n",
    "for index, value in results.items():\n",
    "    if value == False:\n",
    "        print(filenames[index])\n"
   ]
  }
 ],
 "metadata": {
  "kernelspec": {
   "display_name": "Python 3 (ipykernel)",
   "language": "python",
   "name": "python3"
  },
  "language_info": {
   "codemirror_mode": {
    "name": "ipython",
    "version": 3
   },
   "file_extension": ".py",
   "mimetype": "text/x-python",
   "name": "python",
   "nbconvert_exporter": "python",
   "pygments_lexer": "ipython3",
   "version": "3.9.9"
  }
 },
 "nbformat": 4,
 "nbformat_minor": 4
}
