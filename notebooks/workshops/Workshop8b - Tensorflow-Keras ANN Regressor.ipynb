{
 "cells": [
  {
   "cell_type": "markdown",
   "metadata": {},
   "source": [
    "# MCT4052 Workshop 8b: Tensorflow-Keras ANN Regressor\n",
    "\n",
    "*Author: Stefano Fasciani, stefano.fasciani@imv.uio.no, Department of Musicology, University of Oslo.*\n",
    "\n",
    "This notebook shows how to train, test and use an ANN for regression in tensorflow. We use the same dataset used in earlier Workshops."
   ]
  },
  {
   "cell_type": "markdown",
   "metadata": {},
   "source": [
    "### 1. Importing Tensorflow and Keras\n"
   ]
  },
  {
   "cell_type": "code",
   "execution_count": 1,
   "metadata": {},
   "outputs": [
    {
     "name": "stdout",
     "output_type": "stream",
     "text": [
      "2.7.0\n"
     ]
    }
   ],
   "source": [
    "import numpy as np\n",
    "import pandas as pd\n",
    "import librosa, librosa.display\n",
    "import matplotlib.pyplot as plt\n",
    "import matplotlib.style as ms\n",
    "ms.use('seaborn-muted')\n",
    "import IPython.display as Ipd\n",
    "import os\n",
    "import sklearn\n",
    "import scipy\n",
    "import datetime\n",
    "\n",
    "%matplotlib inline\n",
    "%config IPCompleter.greedy=True\n",
    "\n",
    "# Import TensorFlow and Keras\n",
    "import tensorflow as tf\n",
    "\n",
    "# display tensorflow version (this notwbook was developed with 2.7)\n",
    "print(tf.__version__)"
   ]
  },
  {
   "cell_type": "markdown",
   "metadata": {},
   "source": [
    "### 2. Computing features, targets and splitting the dataset\n",
    "\n",
    "This time we store the features in an numpy array of matrices (i.e. a 3D array) ad tensorflow is able to \"flatten\" the data internally (is instructed to do so)."
   ]
  },
  {
   "cell_type": "code",
   "execution_count": 2,
   "metadata": {},
   "outputs": [
    {
     "name": "stdout",
     "output_type": "stream",
     "text": [
      "Done!\n"
     ]
    }
   ],
   "source": [
    "sr = 44100\n",
    "\n",
    "def lin_interp_2d(data, out_size):\n",
    "    \n",
    "    x_in_size = data.shape[1]\n",
    "    y_in_size = data.shape[0]\n",
    "    x_in = np.arange(0,x_in_size)\n",
    "    y_in = np.arange(0,y_in_size)\n",
    "    interpolator = scipy.interpolate.interp2d(x_in, y_in, data, kind='linear')\n",
    "    x_out = np.arange(0,x_in_size-1,((x_in_size-1)/out_size[1]))\n",
    "    y_out = np.arange(0,y_in_size-1,((y_in_size-1)/out_size[0]))\n",
    "    output = interpolator(x_out, y_out)\n",
    "    output = output[0:out_size[0],0:out_size[1]]\n",
    "    \n",
    "    return output\n",
    "\n",
    "def extract_features_targets(filename, sr):\n",
    "    \n",
    "    signal, dummy = librosa.load(filename, sr, mono=True)\n",
    "    \n",
    "    features = librosa.feature.melspectrogram(signal, n_mels=32)\n",
    "    \n",
    "    features = lin_interp_2d(features, (32,16)) # scaling to identical lenght\n",
    "    \n",
    "    targets = np.zeros((1,2))\n",
    "    targets[0,0] = np.mean(librosa.feature.spectral_centroid(signal))\n",
    "    targets[0,1] = np.mean(librosa.feature.spectral_flatness(signal))\n",
    "    \n",
    "    return features, targets\n",
    "\n",
    "filenames = os.listdir('./data/examples2')\n",
    "features = np.zeros((len(filenames),32,16)) #3D Numpy array to store MFCC computed e changed if using more or less features)\n",
    "targets = np.zeros((len(filenames),2))\n",
    "\n",
    "for i in range(len(filenames)):\n",
    "    features[i,:,:], targets[i,:] = extract_features_targets('./data/examples2/'+filenames[i], sr) # alternative features[i,:,:]\n",
    "\n",
    "\n",
    "print('Done!')"
   ]
  },
  {
   "cell_type": "code",
   "execution_count": 3,
   "metadata": {},
   "outputs": [],
   "source": [
    "# for the splitting we still use scikit learn\n",
    "\n",
    "from sklearn.model_selection import train_test_split\n",
    "\n",
    "#splitting the dataset in training and testing parts\n",
    "feat_train, feat_test, tar_train, tar_test = train_test_split(features, targets, test_size=0.2)"
   ]
  },
  {
   "cell_type": "markdown",
   "metadata": {},
   "source": [
    "### 3. Defining, compiling, training and using the ANN\n",
    "\n",
    "Compared to the previous notebook, setting an appropriate loss function (related to the error) is a key element to train a regression model"
   ]
  },
  {
   "cell_type": "code",
   "execution_count": 4,
   "metadata": {},
   "outputs": [
    {
     "name": "stdout",
     "output_type": "stream",
     "text": [
      "Model: \"sequential\"\n",
      "_________________________________________________________________\n",
      " Layer (type)                Output Shape              Param #   \n",
      "=================================================================\n",
      " flatten (Flatten)           (None, 512)               0         \n",
      "                                                                 \n",
      " normalization (Normalizatio  (None, 512)              1025      \n",
      " n)                                                              \n",
      "                                                                 \n",
      " dense (Dense)               (None, 10)                5130      \n",
      "                                                                 \n",
      " dense_1 (Dense)             (None, 2)                 22        \n",
      "                                                                 \n",
      "=================================================================\n",
      "Total params: 6,177\n",
      "Trainable params: 5,152\n",
      "Non-trainable params: 1,025\n",
      "_________________________________________________________________\n"
     ]
    },
    {
     "name": "stderr",
     "output_type": "stream",
     "text": [
      "2022-03-16 10:51:59.422331: I tensorflow/core/platform/cpu_feature_guard.cc:151] This TensorFlow binary is optimized with oneAPI Deep Neural Network Library (oneDNN) to use the following CPU instructions in performance-critical operations:  AVX2 FMA\n",
      "To enable them in other operations, rebuild TensorFlow with the appropriate compiler flags.\n"
     ]
    }
   ],
   "source": [
    "# building the model, the input layer must match the input data\n",
    "# for regression we need an output for each target value\n",
    "# here we also integrate a normalization layer (not an absolute must)\n",
    "\n",
    "model = tf.keras.Sequential([\n",
    "    tf.keras.layers.Flatten(input_shape=(32, 16)),\n",
    "    tf.keras.layers.Normalization(),\n",
    "    tf.keras.layers.Dense(10, activation='tanh'),\n",
    "    tf.keras.layers.Dense(2, activation='relu')\n",
    "])\n",
    "\n",
    "model.summary()\n"
   ]
  },
  {
   "cell_type": "code",
   "execution_count": 5,
   "metadata": {},
   "outputs": [],
   "source": [
    "# setting loss function and metric\n",
    "# we also specify the learning rate, which needs to be further\n",
    "# adjusted to speed up the training\n",
    "\n",
    "model.compile(\n",
    "    optimizer=tf.keras.optimizers.Adam(learning_rate=0.1),\n",
    "    loss='mean_absolute_error')"
   ]
  },
  {
   "cell_type": "code",
   "execution_count": 6,
   "metadata": {},
   "outputs": [
    {
     "name": "stdout",
     "output_type": "stream",
     "text": [
      "Epoch 1/100\n",
      "4/4 [==============================] - 1s 40ms/step - loss: 895.0866 - val_loss: 988.7939\n",
      "Epoch 2/100\n",
      "4/4 [==============================] - 0s 8ms/step - loss: 893.0769 - val_loss: 986.8344\n",
      "Epoch 3/100\n",
      "4/4 [==============================] - 0s 8ms/step - loss: 891.2676 - val_loss: 984.9223\n",
      "Epoch 4/100\n",
      "4/4 [==============================] - 0s 7ms/step - loss: 889.3126 - val_loss: 982.8414\n",
      "Epoch 5/100\n",
      "4/4 [==============================] - 0s 7ms/step - loss: 887.1838 - val_loss: 980.6893\n",
      "Epoch 6/100\n",
      "4/4 [==============================] - 0s 6ms/step - loss: 885.1140 - val_loss: 978.6151\n",
      "Epoch 7/100\n",
      "4/4 [==============================] - 0s 6ms/step - loss: 883.0445 - val_loss: 976.5308\n",
      "Epoch 8/100\n",
      "4/4 [==============================] - 0s 7ms/step - loss: 880.9818 - val_loss: 974.4459\n",
      "Epoch 9/100\n",
      "4/4 [==============================] - 0s 6ms/step - loss: 878.9299 - val_loss: 972.3585\n",
      "Epoch 10/100\n",
      "4/4 [==============================] - 0s 7ms/step - loss: 876.8752 - val_loss: 970.2704\n",
      "Epoch 11/100\n",
      "4/4 [==============================] - 0s 17ms/step - loss: 874.8166 - val_loss: 968.1879\n",
      "Epoch 12/100\n",
      "4/4 [==============================] - 0s 11ms/step - loss: 872.7347 - val_loss: 966.1080\n",
      "Epoch 13/100\n",
      "4/4 [==============================] - 0s 7ms/step - loss: 870.6891 - val_loss: 964.0325\n",
      "Epoch 14/100\n",
      "4/4 [==============================] - 0s 7ms/step - loss: 868.6624 - val_loss: 961.9574\n",
      "Epoch 15/100\n",
      "4/4 [==============================] - 0s 7ms/step - loss: 866.6288 - val_loss: 959.8890\n",
      "Epoch 16/100\n",
      "4/4 [==============================] - 0s 8ms/step - loss: 864.5693 - val_loss: 957.8317\n",
      "Epoch 17/100\n",
      "4/4 [==============================] - 0s 6ms/step - loss: 862.5584 - val_loss: 955.7726\n",
      "Epoch 18/100\n",
      "4/4 [==============================] - 0s 6ms/step - loss: 860.5150 - val_loss: 953.7025\n",
      "Epoch 19/100\n",
      "4/4 [==============================] - 0s 6ms/step - loss: 858.4941 - val_loss: 951.6476\n",
      "Epoch 20/100\n",
      "4/4 [==============================] - 0s 6ms/step - loss: 856.4673 - val_loss: 949.5957\n",
      "Epoch 21/100\n",
      "4/4 [==============================] - 0s 7ms/step - loss: 854.4500 - val_loss: 947.5439\n",
      "Epoch 22/100\n",
      "4/4 [==============================] - 0s 7ms/step - loss: 852.4187 - val_loss: 945.4954\n",
      "Epoch 23/100\n",
      "4/4 [==============================] - 0s 8ms/step - loss: 850.3900 - val_loss: 943.4517\n",
      "Epoch 24/100\n",
      "4/4 [==============================] - 0s 7ms/step - loss: 848.3750 - val_loss: 941.4075\n",
      "Epoch 25/100\n",
      "4/4 [==============================] - 0s 7ms/step - loss: 846.3394 - val_loss: 939.3698\n",
      "Epoch 26/100\n",
      "4/4 [==============================] - 0s 7ms/step - loss: 844.3327 - val_loss: 937.3270\n",
      "Epoch 27/100\n",
      "4/4 [==============================] - 0s 7ms/step - loss: 842.3035 - val_loss: 935.2925\n",
      "Epoch 28/100\n",
      "4/4 [==============================] - 0s 7ms/step - loss: 840.2703 - val_loss: 933.2627\n",
      "Epoch 29/100\n",
      "4/4 [==============================] - 0s 7ms/step - loss: 838.2692 - val_loss: 931.2298\n",
      "Epoch 30/100\n",
      "4/4 [==============================] - 0s 6ms/step - loss: 836.3072 - val_loss: 929.1977\n",
      "Epoch 31/100\n",
      "4/4 [==============================] - 0s 6ms/step - loss: 834.3040 - val_loss: 927.1917\n",
      "Epoch 32/100\n",
      "4/4 [==============================] - 0s 7ms/step - loss: 832.3696 - val_loss: 925.1808\n",
      "Epoch 33/100\n",
      "4/4 [==============================] - 0s 7ms/step - loss: 830.4048 - val_loss: 923.1771\n",
      "Epoch 34/100\n",
      "4/4 [==============================] - 0s 6ms/step - loss: 828.3302 - val_loss: 921.1838\n",
      "Epoch 35/100\n",
      "4/4 [==============================] - 0s 6ms/step - loss: 826.3373 - val_loss: 919.1872\n",
      "Epoch 36/100\n",
      "4/4 [==============================] - 0s 6ms/step - loss: 824.3748 - val_loss: 917.1864\n",
      "Epoch 37/100\n",
      "4/4 [==============================] - 0s 6ms/step - loss: 822.4138 - val_loss: 915.1826\n",
      "Epoch 38/100\n",
      "4/4 [==============================] - 0s 6ms/step - loss: 820.4134 - val_loss: 912.8255\n",
      "Epoch 39/100\n",
      "4/4 [==============================] - 0s 6ms/step - loss: 818.2960 - val_loss: 909.4777\n",
      "Epoch 40/100\n",
      "4/4 [==============================] - 0s 6ms/step - loss: 815.4003 - val_loss: 906.8425\n",
      "Epoch 41/100\n",
      "4/4 [==============================] - 0s 6ms/step - loss: 812.4044 - val_loss: 904.0657\n",
      "Epoch 42/100\n",
      "4/4 [==============================] - 0s 6ms/step - loss: 809.5173 - val_loss: 901.6967\n",
      "Epoch 43/100\n",
      "4/4 [==============================] - 0s 6ms/step - loss: 807.1335 - val_loss: 899.3062\n",
      "Epoch 44/100\n",
      "4/4 [==============================] - 0s 6ms/step - loss: 804.7686 - val_loss: 896.1842\n",
      "Epoch 45/100\n",
      "4/4 [==============================] - 0s 6ms/step - loss: 802.3688 - val_loss: 893.7207\n",
      "Epoch 46/100\n",
      "4/4 [==============================] - 0s 6ms/step - loss: 799.9901 - val_loss: 891.2656\n",
      "Epoch 47/100\n",
      "4/4 [==============================] - 0s 6ms/step - loss: 797.6295 - val_loss: 888.8203\n",
      "Epoch 48/100\n",
      "4/4 [==============================] - 0s 6ms/step - loss: 795.2578 - val_loss: 886.3958\n",
      "Epoch 49/100\n",
      "4/4 [==============================] - 0s 6ms/step - loss: 792.9028 - val_loss: 883.9860\n",
      "Epoch 50/100\n",
      "4/4 [==============================] - 0s 6ms/step - loss: 790.5658 - val_loss: 881.5887\n",
      "Epoch 51/100\n",
      "4/4 [==============================] - 0s 6ms/step - loss: 788.2549 - val_loss: 879.1989\n",
      "Epoch 52/100\n",
      "4/4 [==============================] - 0s 6ms/step - loss: 785.9399 - val_loss: 876.8248\n",
      "Epoch 53/100\n",
      "4/4 [==============================] - 0s 6ms/step - loss: 783.6442 - val_loss: 874.4604\n",
      "Epoch 54/100\n",
      "4/4 [==============================] - 0s 6ms/step - loss: 781.3402 - val_loss: 872.1069\n",
      "Epoch 55/100\n",
      "4/4 [==============================] - 0s 7ms/step - loss: 779.0923 - val_loss: 869.7485\n",
      "Epoch 56/100\n",
      "4/4 [==============================] - 0s 7ms/step - loss: 776.7807 - val_loss: 867.4124\n",
      "Epoch 57/100\n",
      "4/4 [==============================] - 0s 12ms/step - loss: 774.5314 - val_loss: 865.0737\n",
      "Epoch 58/100\n",
      "4/4 [==============================] - 0s 9ms/step - loss: 772.2527 - val_loss: 862.7448\n",
      "Epoch 59/100\n",
      "4/4 [==============================] - 0s 9ms/step - loss: 770.0204 - val_loss: 860.4111\n",
      "Epoch 60/100\n",
      "4/4 [==============================] - 0s 8ms/step - loss: 767.7546 - val_loss: 858.0862\n",
      "Epoch 61/100\n",
      "4/4 [==============================] - 0s 7ms/step - loss: 765.5106 - val_loss: 855.7646\n",
      "Epoch 62/100\n",
      "4/4 [==============================] - 0s 7ms/step - loss: 763.2572 - val_loss: 853.4537\n",
      "Epoch 63/100\n",
      "4/4 [==============================] - 0s 7ms/step - loss: 761.0193 - val_loss: 851.1449\n",
      "Epoch 64/100\n",
      "4/4 [==============================] - 0s 8ms/step - loss: 758.7693 - val_loss: 848.8438\n",
      "Epoch 65/100\n",
      "4/4 [==============================] - 0s 7ms/step - loss: 756.5801 - val_loss: 846.5325\n",
      "Epoch 66/100\n",
      "4/4 [==============================] - 0s 7ms/step - loss: 754.3215 - val_loss: 844.2420\n",
      "Epoch 67/100\n",
      "4/4 [==============================] - 0s 7ms/step - loss: 752.0884 - val_loss: 841.9557\n",
      "Epoch 68/100\n",
      "4/4 [==============================] - 0s 7ms/step - loss: 749.8804 - val_loss: 839.6656\n",
      "Epoch 69/100\n",
      "4/4 [==============================] - 0s 6ms/step - loss: 747.6699 - val_loss: 837.3739\n",
      "Epoch 70/100\n",
      "4/4 [==============================] - 0s 6ms/step - loss: 745.4671 - val_loss: 835.0800\n",
      "Epoch 71/100\n",
      "4/4 [==============================] - 0s 7ms/step - loss: 743.2324 - val_loss: 832.7985\n",
      "Epoch 72/100\n",
      "4/4 [==============================] - 0s 6ms/step - loss: 741.0478 - val_loss: 830.5112\n",
      "Epoch 73/100\n",
      "4/4 [==============================] - 0s 6ms/step - loss: 738.8118 - val_loss: 828.2419\n",
      "Epoch 74/100\n",
      "4/4 [==============================] - 0s 7ms/step - loss: 736.5926 - val_loss: 825.9772\n",
      "Epoch 75/100\n",
      "4/4 [==============================] - 0s 7ms/step - loss: 734.4329 - val_loss: 823.7106\n",
      "Epoch 76/100\n",
      "4/4 [==============================] - 0s 6ms/step - loss: 732.2881 - val_loss: 821.4517\n",
      "Epoch 77/100\n",
      "4/4 [==============================] - 0s 6ms/step - loss: 730.1447 - val_loss: 819.2043\n",
      "Epoch 78/100\n",
      "4/4 [==============================] - 0s 7ms/step - loss: 728.0060 - val_loss: 816.9658\n",
      "Epoch 79/100\n",
      "4/4 [==============================] - 0s 6ms/step - loss: 725.8561 - val_loss: 814.7391\n",
      "Epoch 80/100\n",
      "4/4 [==============================] - 0s 6ms/step - loss: 723.7736 - val_loss: 812.4984\n",
      "Epoch 81/100\n"
     ]
    },
    {
     "name": "stdout",
     "output_type": "stream",
     "text": [
      "4/4 [==============================] - 0s 6ms/step - loss: 721.6008 - val_loss: 810.2823\n",
      "Epoch 82/100\n",
      "4/4 [==============================] - 0s 7ms/step - loss: 719.4889 - val_loss: 808.0604\n",
      "Epoch 83/100\n",
      "4/4 [==============================] - 0s 7ms/step - loss: 717.3740 - val_loss: 805.8343\n",
      "Epoch 84/100\n",
      "4/4 [==============================] - 0s 6ms/step - loss: 715.2760 - val_loss: 803.5985\n",
      "Epoch 85/100\n",
      "4/4 [==============================] - 0s 7ms/step - loss: 713.1581 - val_loss: 801.6215\n",
      "Epoch 86/100\n",
      "4/4 [==============================] - 0s 7ms/step - loss: 711.0316 - val_loss: 799.7108\n",
      "Epoch 87/100\n",
      "4/4 [==============================] - 0s 7ms/step - loss: 708.8998 - val_loss: 797.8075\n",
      "Epoch 88/100\n",
      "4/4 [==============================] - 0s 8ms/step - loss: 706.8069 - val_loss: 795.8995\n",
      "Epoch 89/100\n",
      "4/4 [==============================] - 0s 7ms/step - loss: 704.6815 - val_loss: 794.1351\n",
      "Epoch 90/100\n",
      "4/4 [==============================] - 0s 7ms/step - loss: 702.5958 - val_loss: 792.5700\n",
      "Epoch 91/100\n",
      "4/4 [==============================] - 0s 7ms/step - loss: 700.5624 - val_loss: 791.0005\n",
      "Epoch 92/100\n",
      "4/4 [==============================] - 0s 8ms/step - loss: 698.5172 - val_loss: 789.4301\n",
      "Epoch 93/100\n",
      "4/4 [==============================] - 0s 7ms/step - loss: 696.4473 - val_loss: 787.8651\n",
      "Epoch 94/100\n",
      "4/4 [==============================] - 0s 8ms/step - loss: 694.3920 - val_loss: 786.3026\n",
      "Epoch 95/100\n",
      "4/4 [==============================] - 0s 10ms/step - loss: 692.3567 - val_loss: 784.7384\n",
      "Epoch 96/100\n",
      "4/4 [==============================] - 0s 7ms/step - loss: 690.3151 - val_loss: 783.1722\n",
      "Epoch 97/100\n",
      "4/4 [==============================] - 0s 6ms/step - loss: 688.2575 - val_loss: 781.6165\n",
      "Epoch 98/100\n",
      "4/4 [==============================] - 0s 6ms/step - loss: 686.2997 - val_loss: 780.0576\n",
      "Epoch 99/100\n",
      "4/4 [==============================] - 0s 6ms/step - loss: 684.2744 - val_loss: 778.5345\n",
      "Epoch 100/100\n",
      "4/4 [==============================] - 0s 7ms/step - loss: 682.4341 - val_loss: 777.1507\n"
     ]
    }
   ],
   "source": [
    "# fitting the model and setting some parameters\n",
    "\n",
    "history = model.fit(\n",
    "    feat_train,\n",
    "    tar_train,\n",
    "    batch_size=32,\n",
    "    epochs=100,\n",
    "    validation_split = 0.1\n",
    ")"
   ]
  },
  {
   "cell_type": "code",
   "execution_count": 7,
   "metadata": {},
   "outputs": [
    {
     "data": {
      "image/png": "[encoded data removed]",
      "text/plain": [
       "<Figure size 432x288 with 1 Axes>"
      ]
     },
     "metadata": {
      "needs_background": "light"
     },
     "output_type": "display_data"
    }
   ],
   "source": [
    "# plotting validation and train loss\n",
    "\n",
    "plt.plot(history.history['loss'])\n",
    "plt.plot(history.history['val_loss'])\n",
    "plt.title('model accuracy')\n",
    "plt.ylabel('loss')\n",
    "plt.xlabel('epoch')\n",
    "plt.legend(['train', 'val'], loc='upper left')\n",
    "plt.show()"
   ]
  },
  {
   "cell_type": "code",
   "execution_count": 8,
   "metadata": {},
   "outputs": [
    {
     "name": "stdout",
     "output_type": "stream",
     "text": [
      "R Squared tf.Tensor(-0.0260275885121255, shape=(), dtype=float64)\n"
     ]
    }
   ],
   "source": [
    "# evaluating performance on test set\n",
    "# tensorflow provides  many error-related metrics\n",
    "# but it does not provide the R2 score (we have to manually define a function for it)\n",
    "\n",
    "def R_squared(y, y_pred):\n",
    "    residual = tf.reduce_sum(tf.square(tf.subtract(y, y_pred)))\n",
    "    total = tf.reduce_sum(tf.square(tf.subtract(y, tf.reduce_mean(y))))\n",
    "    r2 = tf.subtract(1.0, tf.divide(residual, total))\n",
    "    return r2\n",
    "\n",
    "tar_pred = model.predict(feat_test)\n",
    "\n",
    "print('R Squared', R_squared(tar_test, tar_pred))"
   ]
  },
  {
   "cell_type": "markdown",
   "metadata": {},
   "source": [
    "### 4. Follow up activities\n",
    "\n",
    "1. Try to improve performances (with the current settings is evident that the training is incomplete)."
   ]
  },
  {
   "cell_type": "code",
   "execution_count": null,
   "metadata": {},
   "outputs": [],
   "source": []
  }
 ],
 "metadata": {
  "kernelspec": {
   "display_name": "Python 3 (ipykernel)",
   "language": "python",
   "name": "python3"
  },
  "language_info": {
   "codemirror_mode": {
    "name": "ipython",
    "version": 3
   },
   "file_extension": ".py",
   "mimetype": "text/x-python",
   "name": "python",
   "nbconvert_exporter": "python",
   "pygments_lexer": "ipython3",
   "version": "3.9.9"
  }
 },
 "nbformat": 4,
 "nbformat_minor": 4
}
