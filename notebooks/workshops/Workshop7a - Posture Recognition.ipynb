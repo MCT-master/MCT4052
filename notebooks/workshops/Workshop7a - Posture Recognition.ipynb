{
 "cells": [
  {
   "cell_type": "markdown",
   "metadata": {},
   "source": [
    "# MCT4052 Workshop 7a: Posture Recognition\n",
    "\n",
    "*Author: Stefano Fasciani, stefano.fasciani@imv.uio.no, Department of Musicology, University of Oslo.*\n",
    "\n",
    "This notebook shows how to use a classifier to recognize specific postures from motion related data. In particular we use 3-axis accelerometer data from a hand-held smartphone. We used [oscHook](https://m.apkpure.com/oschook/com.hollyhook.oscHook) on Android sending data at a rate of 50 Hz (fastest option).\n",
    "\n",
    "OSC data from the phone was collected uwing the PD patch *notebooks/utilities/OSChookToTxt.pd*. The patch collect the accelerometer (used) and linear acceleration data (unused) in a text file. Mind that for back compatibility reasons, in the oscHook v2 application we have set 'Data range' and 'Output range' to [-10;10] for both accelerometer and linear acceleration. If you are using oscHook v1 you have to rename 'accelerometer' to 'gravity' in the OSC prefix of the third cell of this notebook.\n",
    "\n",
    "The data from the text files was imported to an .xlsx file, which was then exported as a posture.csv file. The latter is imported here in the notebook using Pandas. The data in postures.csv represents approximately 1.5 minutes of motion data, including four diferent postures, each held for a few seconds seconds in two separate instances. The postures are (with hand-held smartphone):\n",
    "1. arm lifted up\n",
    "2. arm on the side with phone facing up\n",
    "2. arm on the side with phone facing down\n",
    "4. arm down in rest position\n",
    "\n",
    "The exact starting and ending indexes of the postures was manually found by investigating the axxelerometer data waveforms (displayed below). The various postures were labeled with integers identical to the previous list, while the remaining data, representing motion in other positions was labeled as 'other' (assigned to integer 0).\n",
    "\n",
    "We use this data to train a simple SVM classifier. Scaling is not necessary (although it can be applied) as the data across the the three axis xyz is already consistent (i.e. similar range). Also, dimensionality reduction is no necessary as we have only 3 features.\n",
    "\n",
    "We still partition the data in train/test splits and assess the performance of the classifier. However, in this context, if we understand that a system designed as such is performing well, we can use the entire dataset for training since we will later use it with real-time motion data.\n",
    "\n",
    "When the classifier is ready, we use to classify data in real-time by receiving OSC packates through a [python-osc](https://pypi.org/project/python-osc/) server. The system simply prints on screen the label of the recognized posture. This can be be formatted and forwarded via OSC to another system to trigger notes, scenes, present, sequences, or drive any other discrete music-related control. Given the relative low rate at which accelerometer data is read (50Hz) and the small size of the SVM classifier, the system can easily satisfy the real-time constraints also on non real-time platforms (i.e. general purpos OS and Python)."
   ]
  },
  {
   "cell_type": "code",
   "execution_count": null,
   "metadata": {},
   "outputs": [],
   "source": [
    "import os\n",
    "import numpy as np\n",
    "import pandas as pd\n",
    "import sklearn\n",
    "from sklearn import *\n",
    "import matplotlib.pyplot as plt\n",
    "%matplotlib inline\n",
    "import matplotlib.style as ms\n",
    "ms.use(\"seaborn-v0_8\")\n",
    "from IPython.display import clear_output, display"
   ]
  },
  {
   "cell_type": "markdown",
   "metadata": {},
   "source": [
    "### 1. Importing the data, creating labels and training the classifier\n",
    "\n",
    "If we analyze the misclassified data is composed mostly by 'other' examples. Rather than a limitation of the classifier this appears to be a limitation of the way the data was generated. We can't excluded that in the 'other' segments we acidentally generated momentary data matching one of the four postures.\n"
   ]
  },
  {
   "cell_type": "code",
   "execution_count": null,
   "metadata": {},
   "outputs": [],
   "source": [
    "#read dataset\n",
    "dataset = pd.read_csv('./data/examples10/postures.csv')\n",
    "\n",
    "#importing the columns with accelerometer (gravity) data on the three exis\n",
    "rawdata = dataset[['grx', 'gry', 'grz']].to_numpy()\n",
    "labels = np.zeros(rawdata.shape[0])\n",
    "\n",
    "#creating list of text labels\n",
    "classes = ['other', 'arm up', 'arm side face up', 'arm side face down', 'arm down']\n",
    "\n",
    "#iterating through the entries of the dataset and creating associated labels\n",
    "#the index edges for the postures have been found manually by visually inspecting the waveforms\n",
    "for i in range(0,rawdata.shape[0]):\n",
    "    if (860 <= i <= 1000) or (1315 <= i <= 1450):\n",
    "        labels[i] = classes.index('arm up')\n",
    "    elif (1750 <= i <= 1865) or (2130 <= i <= 2250):\n",
    "        labels[i] = classes.index('arm side face up')\n",
    "    elif (2530 <= i <= 2650) or (2930 <= i <= 3055):\n",
    "        labels[i] = classes.index('arm side face down')\n",
    "    elif (3490 <= i <= 3640) or (4150 <= i <= 4320):\n",
    "        labels[i] = classes.index('arm down')\n",
    "    else:\n",
    "        labels[i] = classes.index('other')\n",
    "\n",
    "plt.figure(figsize=(16, 8))\n",
    "plt.plot(rawdata)\n",
    "plt.plot(labels,'k')\n",
    "#plt.plot((-1)*labels,'k') #uncomment this line to have a symmetric visual representation porsture-areas\n",
    "plt.show()\n",
    "\n",
    "#creating train/test split\n",
    "rawdata_train, rawdata_test, lab_train, lab_test = sklearn.model_selection.train_test_split(rawdata, labels, test_size=0.1)\n",
    "\n",
    "#training the model\n",
    "svm = sklearn.svm.SVC(kernel='linear', C=1)\n",
    "svm.fit(rawdata_train, lab_train)\n",
    "\n",
    "#applying the the model on the test data (features)\n",
    "lab_predict =  svm.predict(rawdata_test)\n",
    "\n",
    "\n",
    "#print the number of misclassified samples, accuracy and complete report (using scikit learn metric tools) \n",
    "print('Number of mislabeled samples %d out of %d' % ((lab_test != lab_predict).sum(),lab_test.size))\n",
    "print('Accuracy:',sklearn.metrics.accuracy_score(lab_test, lab_predict))\n",
    "\n",
    "errors = lab_test != lab_predict\n",
    "print(\"misclassifieds: \")\n",
    "for i in range(0,len(errors)):\n",
    "    if errors[i] == True:\n",
    "        print(classes[int(lab_test[i])], end = ' ')"
   ]
  },
  {
   "cell_type": "markdown",
   "metadata": {},
   "source": [
    "### 2. Using the classifier with OSC real-time data\n",
    "\n",
    "Here we use the classifier we previously trained. For a standalone application it would be more suitable to load the svm model from a file (i.e. perform the training once for all and store it in a file).\n",
    "\n",
    "The following cell will run until you press the stop button. However, before you can run it again you need to close the OSC server running the following cell."
   ]
  },
  {
   "cell_type": "code",
   "execution_count": null,
   "metadata": {},
   "outputs": [],
   "source": [
    "from pythonosc import dispatcher\n",
    "from pythonosc import osc_server\n",
    "\n",
    "acc_vect = np.zeros((1,3))\n",
    "\n",
    "#creating a function that will handle and classify accelerometer data\n",
    "def acceleration_vector(address, args):\n",
    "    #print(address)\n",
    "    #print(args)\n",
    "    if address.find('accelerometer/x') != -1:\n",
    "        acc_vect[0,0] = args\n",
    "    elif address.find('accelerometer/y') != -1:\n",
    "        acc_vect[0,1] = args\n",
    "    elif address.find('accelerometer/z') != -1:\n",
    "        acc_vect[0,2] = args\n",
    "        clear_output(wait=True)\n",
    "        pred = svm.predict(acc_vect)\n",
    "        print(classes[int(pred)])\n",
    "\n",
    "#attaching the function to the dispatcher\n",
    "dispatcher = dispatcher.Dispatcher()\n",
    "dispatcher.map(\"/accelerometer/*\", acceleration_vector)\n",
    "\n",
    "#starting the OSC server\n",
    "server = osc_server.ThreadingOSCUDPServer(('0.0.0.0', 8001), dispatcher)\n",
    "print(\"Serving on {}\".format(server.server_address))\n",
    "server.serve_forever()"
   ]
  },
  {
   "cell_type": "code",
   "execution_count": null,
   "metadata": {},
   "outputs": [],
   "source": [
    "#closing the OSC server\n",
    "server.server_close()"
   ]
  },
  {
   "cell_type": "code",
   "execution_count": null,
   "metadata": {},
   "outputs": [],
   "source": []
  }
 ],
 "metadata": {
  "kernelspec": {
   "display_name": "Python 3 (ipykernel)",
   "language": "python",
   "name": "python3"
  },
  "language_info": {
   "codemirror_mode": {
    "name": "ipython",
    "version": 3
   },
   "file_extension": ".py",
   "mimetype": "text/x-python",
   "name": "python",
   "nbconvert_exporter": "python",
   "pygments_lexer": "ipython3",
   "version": "3.9.13"
  }
 },
 "nbformat": 4,
 "nbformat_minor": 4
}
